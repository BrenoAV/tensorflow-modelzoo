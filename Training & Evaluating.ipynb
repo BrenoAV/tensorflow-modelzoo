{
 "cells": [
  {
   "cell_type": "markdown",
   "id": "d37c3247",
   "metadata": {
    "id": "d37c3247"
   },
   "source": [
    "# 1. Creating some paths"
   ]
  },
  {
   "cell_type": "code",
   "execution_count": 1,
   "id": "ba7b72a7",
   "metadata": {
    "executionInfo": {
     "elapsed": 510,
     "status": "ok",
     "timestamp": 1653474581650,
     "user": {
      "displayName": "Breno Alencar",
      "userId": "04592311811102011355"
     },
     "user_tz": 180
    },
    "id": "ba7b72a7"
   },
   "outputs": [],
   "source": [
    "import os, shutil"
   ]
  },
  {
   "cell_type": "code",
   "execution_count": 2,
   "id": "cf7c6895",
   "metadata": {
    "executionInfo": {
     "elapsed": 14,
     "status": "ok",
     "timestamp": 1653474582061,
     "user": {
      "displayName": "Breno Alencar",
      "userId": "04592311811102011355"
     },
     "user_tz": 180
    },
    "id": "cf7c6895"
   },
   "outputs": [],
   "source": [
    "CUSTOM_MODEL_NAME = 'my_ssd_mobnet' \n",
    "PRETRAINED_MODEL_NAME = 'ssd_mobilenet_v2_fpnlite_320x320_coco17_tpu-8'\n",
    "PRETRAINED_MODEL_URL = 'http://download.tensorflow.org/models/object_detection/tf2/20200711/ssd_mobilenet_v2_fpnlite_320x320_coco17_tpu-8.tar.gz'\n",
    "TF_RECORD_SCRIPT_NAME = 'generate_tfrecord.py'\n",
    "LABEL_MAP_NAME = 'label_map.pbtxt'"
   ]
  },
  {
   "cell_type": "code",
   "execution_count": 3,
   "id": "64aad197",
   "metadata": {
    "executionInfo": {
     "elapsed": 14,
     "status": "ok",
     "timestamp": 1653474582062,
     "user": {
      "displayName": "Breno Alencar",
      "userId": "04592311811102011355"
     },
     "user_tz": 180
    },
    "id": "64aad197"
   },
   "outputs": [],
   "source": [
    "paths = {\n",
    "    'WORKSPACE_PATH': os.path.join('Tensorflow', 'workspace'),\n",
    "    'SCRIPTS_PATH': os.path.join('Tensorflow','scripts'),\n",
    "    'APIMODEL_PATH': os.path.join('Tensorflow','models'),\n",
    "    'ANNOTATION_PATH': os.path.join('Tensorflow', 'workspace','annotations'),\n",
    "    'IMAGE_PATH': os.path.join('Tensorflow', 'workspace','images'),\n",
    "    'MODEL_PATH': os.path.join('Tensorflow', 'workspace','models'),\n",
    "    'PRETRAINED_MODEL_PATH': os.path.join('Tensorflow', 'workspace','pre-trained-models'),\n",
    "    'CHECKPOINT_PATH': os.path.join('Tensorflow', 'workspace','models',CUSTOM_MODEL_NAME), \n",
    "    'OUTPUT_PATH': os.path.join('Tensorflow', 'workspace','models',CUSTOM_MODEL_NAME, 'export'), \n",
    "    'TFJS_PATH':os.path.join('Tensorflow', 'workspace','models',CUSTOM_MODEL_NAME, 'tfjsexport'), \n",
    "    'TFLITE_PATH':os.path.join('Tensorflow', 'workspace','models',CUSTOM_MODEL_NAME, 'tfliteexport'), \n",
    "    'PROTOC_PATH':os.path.join('Tensorflow','protoc')\n",
    " }"
   ]
  },
  {
   "cell_type": "code",
   "execution_count": 4,
   "id": "b3d2e8f5",
   "metadata": {
    "executionInfo": {
     "elapsed": 14,
     "status": "ok",
     "timestamp": 1653474582063,
     "user": {
      "displayName": "Breno Alencar",
      "userId": "04592311811102011355"
     },
     "user_tz": 180
    },
    "id": "b3d2e8f5"
   },
   "outputs": [],
   "source": [
    "files = {\n",
    "    'PIPELINE_CONFIG':os.path.join('Tensorflow', 'workspace','models', CUSTOM_MODEL_NAME, 'pipeline.config'),\n",
    "    'TF_RECORD_SCRIPT': os.path.join(paths['SCRIPTS_PATH'], TF_RECORD_SCRIPT_NAME), \n",
    "    'LABELMAP': os.path.join(paths['ANNOTATION_PATH'], LABEL_MAP_NAME)\n",
    "}"
   ]
  },
  {
   "cell_type": "code",
   "execution_count": 5,
   "id": "2b4ad0e0",
   "metadata": {
    "executionInfo": {
     "elapsed": 14,
     "status": "ok",
     "timestamp": 1653474582064,
     "user": {
      "displayName": "Breno Alencar",
      "userId": "04592311811102011355"
     },
     "user_tz": 180
    },
    "id": "2b4ad0e0"
   },
   "outputs": [],
   "source": [
    "for path in paths.values():\n",
    "    if not os.path.exists(path):\n",
    "        !mkdir -p {path}"
   ]
  },
  {
   "cell_type": "markdown",
   "id": "b0fa8cda",
   "metadata": {
    "id": "b0fa8cda"
   },
   "source": [
    "# 2. Downloading TFOD and installing it"
   ]
  },
  {
   "cell_type": "code",
   "execution_count": 32,
   "id": "99590e9d",
   "metadata": {
    "executionInfo": {
     "elapsed": 14,
     "status": "ok",
     "timestamp": 1653474582065,
     "user": {
      "displayName": "Breno Alencar",
      "userId": "04592311811102011355"
     },
     "user_tz": 180
    },
    "id": "99590e9d"
   },
   "outputs": [
    {
     "name": "stdout",
     "output_type": "stream",
     "text": [
      "Cloning into 'Tensorflow/models'...\n",
      "remote: Enumerating objects: 73115, done.\u001b[K\n",
      "remote: Counting objects: 100% (18/18), done.\u001b[K\n",
      "remote: Compressing objects: 100% (10/10), done.\u001b[K\n",
      "remote: Total 73115 (delta 6), reused 17 (delta 6), pack-reused 73097\u001b[K\n",
      "Receiving objects: 100% (73115/73115), 579.32 MiB | 7.93 MiB/s, done.\n",
      "Resolving deltas: 100% (51783/51783), done.\n"
     ]
    }
   ],
   "source": [
    "if not os.path.exists(os.path.join(paths['APIMODEL_PATH'], 'research', 'object_detection')):\n",
    "    !git clone https://github.com/tensorflow/models {paths['APIMODEL_PATH']}"
   ]
  },
  {
   "cell_type": "code",
   "execution_count": 7,
   "id": "be8adf60",
   "metadata": {
    "executionInfo": {
     "elapsed": 14,
     "status": "ok",
     "timestamp": 1653474582066,
     "user": {
      "displayName": "Breno Alencar",
      "userId": "04592311811102011355"
     },
     "user_tz": 180
    },
    "id": "be8adf60"
   },
   "outputs": [],
   "source": [
    "#sudo apt-get install protobuf-compiler"
   ]
  },
  {
   "cell_type": "code",
   "execution_count": 33,
   "id": "6eea234a",
   "metadata": {
    "colab": {
     "base_uri": "https://localhost:8080/"
    },
    "executionInfo": {
     "elapsed": 12469,
     "status": "ok",
     "timestamp": 1653474594521,
     "user": {
      "displayName": "Breno Alencar",
      "userId": "04592311811102011355"
     },
     "user_tz": 180
    },
    "id": "6eea234a",
    "outputId": "dc7d4fc5-8bf8-4fb0-b34f-ed4b90ebc25d"
   },
   "outputs": [
    {
     "name": "stdout",
     "output_type": "stream",
     "text": [
      "Processing /mnt/files/tfod/Tensorflow/models/research\n",
      "\u001b[33m  DEPRECATION: A future pip version will change local packages to be built in-place without first copying to a temporary directory. We recommend you use --use-feature=in-tree-build to test your packages with this new behavior before it becomes the default.\n",
      "   pip 21.3 will remove support for this functionality. You can find discussion regarding this at https://github.com/pypa/pip/issues/7555.\u001b[0m\n",
      "Requirement already satisfied: avro-python3 in /mnt/files/miniconda3/envs/tfod/lib/python3.8/site-packages (from object-detection==0.1) (1.10.2)\n",
      "Requirement already satisfied: apache-beam in /mnt/files/miniconda3/envs/tfod/lib/python3.8/site-packages (from object-detection==0.1) (2.39.0)\n",
      "Requirement already satisfied: pillow in /mnt/files/miniconda3/envs/tfod/lib/python3.8/site-packages (from object-detection==0.1) (9.1.1)\n",
      "Requirement already satisfied: lxml in /mnt/files/miniconda3/envs/tfod/lib/python3.8/site-packages (from object-detection==0.1) (4.8.0)\n",
      "Requirement already satisfied: matplotlib in /mnt/files/miniconda3/envs/tfod/lib/python3.8/site-packages (from object-detection==0.1) (3.5.2)\n",
      "Requirement already satisfied: Cython in /mnt/files/miniconda3/envs/tfod/lib/python3.8/site-packages (from object-detection==0.1) (0.29.30)\n",
      "Requirement already satisfied: contextlib2 in /mnt/files/miniconda3/envs/tfod/lib/python3.8/site-packages (from object-detection==0.1) (21.6.0)\n",
      "Requirement already satisfied: tf-slim in /mnt/files/miniconda3/envs/tfod/lib/python3.8/site-packages (from object-detection==0.1) (1.1.0)\n",
      "Requirement already satisfied: six in /mnt/files/miniconda3/envs/tfod/lib/python3.8/site-packages (from object-detection==0.1) (1.16.0)\n",
      "Requirement already satisfied: pycocotools in /mnt/files/miniconda3/envs/tfod/lib/python3.8/site-packages (from object-detection==0.1) (2.0.4)\n",
      "Requirement already satisfied: lvis in /mnt/files/miniconda3/envs/tfod/lib/python3.8/site-packages (from object-detection==0.1) (0.5.3)\n",
      "Requirement already satisfied: scipy in /mnt/files/miniconda3/envs/tfod/lib/python3.8/site-packages (from object-detection==0.1) (1.8.1)\n",
      "Requirement already satisfied: pandas in /mnt/files/miniconda3/envs/tfod/lib/python3.8/site-packages (from object-detection==0.1) (1.4.2)\n",
      "Requirement already satisfied: tf-models-official>=2.5.1 in /mnt/files/miniconda3/envs/tfod/lib/python3.8/site-packages (from object-detection==0.1) (2.9.2)\n",
      "Requirement already satisfied: tensorflow_io in /mnt/files/miniconda3/envs/tfod/lib/python3.8/site-packages (from object-detection==0.1) (0.26.0)\n",
      "Requirement already satisfied: keras in /mnt/files/miniconda3/envs/tfod/lib/python3.8/site-packages (from object-detection==0.1) (2.9.0)\n",
      "Requirement already satisfied: pyparsing==2.4.7 in /mnt/files/miniconda3/envs/tfod/lib/python3.8/site-packages (from object-detection==0.1) (2.4.7)\n",
      "Requirement already satisfied: gin-config in /mnt/files/miniconda3/envs/tfod/lib/python3.8/site-packages (from tf-models-official>=2.5.1->object-detection==0.1) (0.5.0)\n",
      "Requirement already satisfied: tensorflow-model-optimization>=0.4.1 in /mnt/files/miniconda3/envs/tfod/lib/python3.8/site-packages (from tf-models-official>=2.5.1->object-detection==0.1) (0.7.2)\n",
      "Requirement already satisfied: sentencepiece in /mnt/files/miniconda3/envs/tfod/lib/python3.8/site-packages (from tf-models-official>=2.5.1->object-detection==0.1) (0.1.96)\n",
      "Requirement already satisfied: py-cpuinfo>=3.3.0 in /mnt/files/miniconda3/envs/tfod/lib/python3.8/site-packages (from tf-models-official>=2.5.1->object-detection==0.1) (8.0.0)\n",
      "Requirement already satisfied: psutil>=5.4.3 in /mnt/files/miniconda3/envs/tfod/lib/python3.8/site-packages (from tf-models-official>=2.5.1->object-detection==0.1) (5.9.1)\n",
      "Requirement already satisfied: opencv-python-headless in /mnt/files/miniconda3/envs/tfod/lib/python3.8/site-packages (from tf-models-official>=2.5.1->object-detection==0.1) (4.5.5.64)\n",
      "Requirement already satisfied: tensorflow-text~=2.9.0 in /mnt/files/miniconda3/envs/tfod/lib/python3.8/site-packages (from tf-models-official>=2.5.1->object-detection==0.1) (2.9.0)\n",
      "Requirement already satisfied: oauth2client in /mnt/files/miniconda3/envs/tfod/lib/python3.8/site-packages (from tf-models-official>=2.5.1->object-detection==0.1) (4.1.3)\n",
      "Requirement already satisfied: tensorflow-datasets in /mnt/files/miniconda3/envs/tfod/lib/python3.8/site-packages (from tf-models-official>=2.5.1->object-detection==0.1) (4.5.2)\n",
      "Requirement already satisfied: tensorflow-addons in /mnt/files/miniconda3/envs/tfod/lib/python3.8/site-packages (from tf-models-official>=2.5.1->object-detection==0.1) (0.17.0)\n",
      "Requirement already satisfied: tensorflow-hub>=0.6.0 in /mnt/files/miniconda3/envs/tfod/lib/python3.8/site-packages (from tf-models-official>=2.5.1->object-detection==0.1) (0.12.0)\n",
      "Requirement already satisfied: seqeval in /mnt/files/miniconda3/envs/tfod/lib/python3.8/site-packages (from tf-models-official>=2.5.1->object-detection==0.1) (1.2.2)\n",
      "Requirement already satisfied: pyyaml<6.0,>=5.1 in /mnt/files/miniconda3/envs/tfod/lib/python3.8/site-packages (from tf-models-official>=2.5.1->object-detection==0.1) (5.4.1)\n",
      "Requirement already satisfied: google-api-python-client>=1.6.7 in /mnt/files/miniconda3/envs/tfod/lib/python3.8/site-packages (from tf-models-official>=2.5.1->object-detection==0.1) (2.49.0)\n",
      "Requirement already satisfied: kaggle>=1.3.9 in /mnt/files/miniconda3/envs/tfod/lib/python3.8/site-packages (from tf-models-official>=2.5.1->object-detection==0.1) (1.5.12)\n",
      "Requirement already satisfied: tensorflow~=2.9.0 in /mnt/files/miniconda3/envs/tfod/lib/python3.8/site-packages (from tf-models-official>=2.5.1->object-detection==0.1) (2.9.1)\n",
      "Requirement already satisfied: numpy>=1.20 in /mnt/files/miniconda3/envs/tfod/lib/python3.8/site-packages (from tf-models-official>=2.5.1->object-detection==0.1) (1.22.4)\n",
      "Requirement already satisfied: sacrebleu in /mnt/files/miniconda3/envs/tfod/lib/python3.8/site-packages (from tf-models-official>=2.5.1->object-detection==0.1) (2.1.0)\n",
      "Requirement already satisfied: httplib2<1dev,>=0.15.0 in /mnt/files/miniconda3/envs/tfod/lib/python3.8/site-packages (from google-api-python-client>=1.6.7->tf-models-official>=2.5.1->object-detection==0.1) (0.19.1)\n",
      "Requirement already satisfied: uritemplate<5,>=3.0.1 in /mnt/files/miniconda3/envs/tfod/lib/python3.8/site-packages (from google-api-python-client>=1.6.7->tf-models-official>=2.5.1->object-detection==0.1) (4.1.1)\n",
      "Requirement already satisfied: google-auth<3.0.0dev,>=1.16.0 in /mnt/files/miniconda3/envs/tfod/lib/python3.8/site-packages (from google-api-python-client>=1.6.7->tf-models-official>=2.5.1->object-detection==0.1) (2.6.6)\n",
      "Requirement already satisfied: google-auth-httplib2>=0.1.0 in /mnt/files/miniconda3/envs/tfod/lib/python3.8/site-packages (from google-api-python-client>=1.6.7->tf-models-official>=2.5.1->object-detection==0.1) (0.1.0)\n",
      "Requirement already satisfied: google-api-core!=2.0.*,!=2.1.*,!=2.2.*,!=2.3.0,<3.0.0dev,>=1.31.5 in /mnt/files/miniconda3/envs/tfod/lib/python3.8/site-packages (from google-api-python-client>=1.6.7->tf-models-official>=2.5.1->object-detection==0.1) (2.8.1)\n",
      "Requirement already satisfied: requests<3.0.0dev,>=2.18.0 in /mnt/files/miniconda3/envs/tfod/lib/python3.8/site-packages (from google-api-core!=2.0.*,!=2.1.*,!=2.2.*,!=2.3.0,<3.0.0dev,>=1.31.5->google-api-python-client>=1.6.7->tf-models-official>=2.5.1->object-detection==0.1) (2.27.1)\n",
      "Requirement already satisfied: googleapis-common-protos<2.0dev,>=1.56.2 in /mnt/files/miniconda3/envs/tfod/lib/python3.8/site-packages (from google-api-core!=2.0.*,!=2.1.*,!=2.2.*,!=2.3.0,<3.0.0dev,>=1.31.5->google-api-python-client>=1.6.7->tf-models-official>=2.5.1->object-detection==0.1) (1.56.2)\n",
      "Requirement already satisfied: protobuf<4.0.0dev,>=3.15.0 in /mnt/files/miniconda3/envs/tfod/lib/python3.8/site-packages (from google-api-core!=2.0.*,!=2.1.*,!=2.2.*,!=2.3.0,<3.0.0dev,>=1.31.5->google-api-python-client>=1.6.7->tf-models-official>=2.5.1->object-detection==0.1) (3.19.4)\n",
      "Requirement already satisfied: pyasn1-modules>=0.2.1 in /mnt/files/miniconda3/envs/tfod/lib/python3.8/site-packages (from google-auth<3.0.0dev,>=1.16.0->google-api-python-client>=1.6.7->tf-models-official>=2.5.1->object-detection==0.1) (0.2.8)\n",
      "Requirement already satisfied: rsa<5,>=3.1.4 in /mnt/files/miniconda3/envs/tfod/lib/python3.8/site-packages (from google-auth<3.0.0dev,>=1.16.0->google-api-python-client>=1.6.7->tf-models-official>=2.5.1->object-detection==0.1) (4.8)\n",
      "Requirement already satisfied: cachetools<6.0,>=2.0.0 in /mnt/files/miniconda3/envs/tfod/lib/python3.8/site-packages (from google-auth<3.0.0dev,>=1.16.0->google-api-python-client>=1.6.7->tf-models-official>=2.5.1->object-detection==0.1) (5.1.0)\n"
     ]
    },
    {
     "name": "stdout",
     "output_type": "stream",
     "text": [
      "Requirement already satisfied: python-slugify in /mnt/files/miniconda3/envs/tfod/lib/python3.8/site-packages (from kaggle>=1.3.9->tf-models-official>=2.5.1->object-detection==0.1) (6.1.2)\n",
      "Requirement already satisfied: tqdm in /mnt/files/miniconda3/envs/tfod/lib/python3.8/site-packages (from kaggle>=1.3.9->tf-models-official>=2.5.1->object-detection==0.1) (4.64.0)\n",
      "Requirement already satisfied: python-dateutil in /mnt/files/miniconda3/envs/tfod/lib/python3.8/site-packages (from kaggle>=1.3.9->tf-models-official>=2.5.1->object-detection==0.1) (2.8.2)\n",
      "Requirement already satisfied: urllib3 in /mnt/files/miniconda3/envs/tfod/lib/python3.8/site-packages (from kaggle>=1.3.9->tf-models-official>=2.5.1->object-detection==0.1) (1.26.9)\n",
      "Requirement already satisfied: certifi in /mnt/files/miniconda3/envs/tfod/lib/python3.8/site-packages (from kaggle>=1.3.9->tf-models-official>=2.5.1->object-detection==0.1) (2022.5.18.1)\n",
      "Requirement already satisfied: pytz>=2020.1 in /mnt/files/miniconda3/envs/tfod/lib/python3.8/site-packages (from pandas->object-detection==0.1) (2022.1)\n",
      "Requirement already satisfied: pyasn1<0.5.0,>=0.4.6 in /mnt/files/miniconda3/envs/tfod/lib/python3.8/site-packages (from pyasn1-modules>=0.2.1->google-auth<3.0.0dev,>=1.16.0->google-api-python-client>=1.6.7->tf-models-official>=2.5.1->object-detection==0.1) (0.4.8)\n",
      "Requirement already satisfied: idna<4,>=2.5 in /mnt/files/miniconda3/envs/tfod/lib/python3.8/site-packages (from requests<3.0.0dev,>=2.18.0->google-api-core!=2.0.*,!=2.1.*,!=2.2.*,!=2.3.0,<3.0.0dev,>=1.31.5->google-api-python-client>=1.6.7->tf-models-official>=2.5.1->object-detection==0.1) (3.3)\n",
      "Requirement already satisfied: charset-normalizer~=2.0.0 in /mnt/files/miniconda3/envs/tfod/lib/python3.8/site-packages (from requests<3.0.0dev,>=2.18.0->google-api-core!=2.0.*,!=2.1.*,!=2.2.*,!=2.3.0,<3.0.0dev,>=1.31.5->google-api-python-client>=1.6.7->tf-models-official>=2.5.1->object-detection==0.1) (2.0.12)\n",
      "Requirement already satisfied: tensorboard<2.10,>=2.9 in /mnt/files/miniconda3/envs/tfod/lib/python3.8/site-packages (from tensorflow~=2.9.0->tf-models-official>=2.5.1->object-detection==0.1) (2.9.0)\n",
      "Requirement already satisfied: h5py>=2.9.0 in /mnt/files/miniconda3/envs/tfod/lib/python3.8/site-packages (from tensorflow~=2.9.0->tf-models-official>=2.5.1->object-detection==0.1) (3.7.0)\n",
      "Requirement already satisfied: libclang>=13.0.0 in /mnt/files/miniconda3/envs/tfod/lib/python3.8/site-packages (from tensorflow~=2.9.0->tf-models-official>=2.5.1->object-detection==0.1) (14.0.1)\n",
      "Requirement already satisfied: tensorflow-estimator<2.10.0,>=2.9.0rc0 in /mnt/files/miniconda3/envs/tfod/lib/python3.8/site-packages (from tensorflow~=2.9.0->tf-models-official>=2.5.1->object-detection==0.1) (2.9.0)\n",
      "Requirement already satisfied: opt-einsum>=2.3.2 in /mnt/files/miniconda3/envs/tfod/lib/python3.8/site-packages (from tensorflow~=2.9.0->tf-models-official>=2.5.1->object-detection==0.1) (3.3.0)\n",
      "Requirement already satisfied: keras-preprocessing>=1.1.1 in /mnt/files/miniconda3/envs/tfod/lib/python3.8/site-packages (from tensorflow~=2.9.0->tf-models-official>=2.5.1->object-detection==0.1) (1.1.2)\n",
      "Requirement already satisfied: typing-extensions>=3.6.6 in /mnt/files/miniconda3/envs/tfod/lib/python3.8/site-packages (from tensorflow~=2.9.0->tf-models-official>=2.5.1->object-detection==0.1) (4.1.1)\n",
      "Requirement already satisfied: wrapt>=1.11.0 in /mnt/files/miniconda3/envs/tfod/lib/python3.8/site-packages (from tensorflow~=2.9.0->tf-models-official>=2.5.1->object-detection==0.1) (1.14.1)\n",
      "Requirement already satisfied: setuptools in /mnt/files/miniconda3/envs/tfod/lib/python3.8/site-packages (from tensorflow~=2.9.0->tf-models-official>=2.5.1->object-detection==0.1) (61.2.0)\n",
      "Requirement already satisfied: astunparse>=1.6.0 in /mnt/files/miniconda3/envs/tfod/lib/python3.8/site-packages (from tensorflow~=2.9.0->tf-models-official>=2.5.1->object-detection==0.1) (1.6.3)\n",
      "Requirement already satisfied: packaging in /mnt/files/miniconda3/envs/tfod/lib/python3.8/site-packages (from tensorflow~=2.9.0->tf-models-official>=2.5.1->object-detection==0.1) (21.3)\n",
      "Requirement already satisfied: absl-py>=1.0.0 in /mnt/files/miniconda3/envs/tfod/lib/python3.8/site-packages (from tensorflow~=2.9.0->tf-models-official>=2.5.1->object-detection==0.1) (1.0.0)\n",
      "Requirement already satisfied: termcolor>=1.1.0 in /mnt/files/miniconda3/envs/tfod/lib/python3.8/site-packages (from tensorflow~=2.9.0->tf-models-official>=2.5.1->object-detection==0.1) (1.1.0)\n",
      "Requirement already satisfied: google-pasta>=0.1.1 in /mnt/files/miniconda3/envs/tfod/lib/python3.8/site-packages (from tensorflow~=2.9.0->tf-models-official>=2.5.1->object-detection==0.1) (0.2.0)\n",
      "Requirement already satisfied: grpcio<2.0,>=1.24.3 in /mnt/files/miniconda3/envs/tfod/lib/python3.8/site-packages (from tensorflow~=2.9.0->tf-models-official>=2.5.1->object-detection==0.1) (1.46.3)\n",
      "Requirement already satisfied: tensorflow-io-gcs-filesystem>=0.23.1 in /mnt/files/miniconda3/envs/tfod/lib/python3.8/site-packages (from tensorflow~=2.9.0->tf-models-official>=2.5.1->object-detection==0.1) (0.26.0)\n",
      "Requirement already satisfied: gast<=0.4.0,>=0.2.1 in /mnt/files/miniconda3/envs/tfod/lib/python3.8/site-packages (from tensorflow~=2.9.0->tf-models-official>=2.5.1->object-detection==0.1) (0.4.0)\n",
      "Requirement already satisfied: flatbuffers<2,>=1.12 in /mnt/files/miniconda3/envs/tfod/lib/python3.8/site-packages (from tensorflow~=2.9.0->tf-models-official>=2.5.1->object-detection==0.1) (1.12)\n",
      "Requirement already satisfied: wheel<1.0,>=0.23.0 in /mnt/files/miniconda3/envs/tfod/lib/python3.8/site-packages (from astunparse>=1.6.0->tensorflow~=2.9.0->tf-models-official>=2.5.1->object-detection==0.1) (0.37.1)\n",
      "Requirement already satisfied: tensorboard-plugin-wit>=1.6.0 in /mnt/files/miniconda3/envs/tfod/lib/python3.8/site-packages (from tensorboard<2.10,>=2.9->tensorflow~=2.9.0->tf-models-official>=2.5.1->object-detection==0.1) (1.8.1)\n",
      "Requirement already satisfied: markdown>=2.6.8 in /mnt/files/miniconda3/envs/tfod/lib/python3.8/site-packages (from tensorboard<2.10,>=2.9->tensorflow~=2.9.0->tf-models-official>=2.5.1->object-detection==0.1) (3.3.7)\n",
      "Requirement already satisfied: tensorboard-data-server<0.7.0,>=0.6.0 in /mnt/files/miniconda3/envs/tfod/lib/python3.8/site-packages (from tensorboard<2.10,>=2.9->tensorflow~=2.9.0->tf-models-official>=2.5.1->object-detection==0.1) (0.6.1)\n",
      "Requirement already satisfied: werkzeug>=1.0.1 in /mnt/files/miniconda3/envs/tfod/lib/python3.8/site-packages (from tensorboard<2.10,>=2.9->tensorflow~=2.9.0->tf-models-official>=2.5.1->object-detection==0.1) (2.1.2)\n",
      "Requirement already satisfied: google-auth-oauthlib<0.5,>=0.4.1 in /mnt/files/miniconda3/envs/tfod/lib/python3.8/site-packages (from tensorboard<2.10,>=2.9->tensorflow~=2.9.0->tf-models-official>=2.5.1->object-detection==0.1) (0.4.6)\n",
      "Requirement already satisfied: requests-oauthlib>=0.7.0 in /mnt/files/miniconda3/envs/tfod/lib/python3.8/site-packages (from google-auth-oauthlib<0.5,>=0.4.1->tensorboard<2.10,>=2.9->tensorflow~=2.9.0->tf-models-official>=2.5.1->object-detection==0.1) (1.3.1)\n",
      "Requirement already satisfied: importlib-metadata>=4.4 in /mnt/files/miniconda3/envs/tfod/lib/python3.8/site-packages (from markdown>=2.6.8->tensorboard<2.10,>=2.9->tensorflow~=2.9.0->tf-models-official>=2.5.1->object-detection==0.1) (4.11.4)\n",
      "Requirement already satisfied: zipp>=0.5 in /mnt/files/miniconda3/envs/tfod/lib/python3.8/site-packages (from importlib-metadata>=4.4->markdown>=2.6.8->tensorboard<2.10,>=2.9->tensorflow~=2.9.0->tf-models-official>=2.5.1->object-detection==0.1) (3.8.0)\n",
      "Requirement already satisfied: oauthlib>=3.0.0 in /mnt/files/miniconda3/envs/tfod/lib/python3.8/site-packages (from requests-oauthlib>=0.7.0->google-auth-oauthlib<0.5,>=0.4.1->tensorboard<2.10,>=2.9->tensorflow~=2.9.0->tf-models-official>=2.5.1->object-detection==0.1) (3.2.0)\n",
      "Requirement already satisfied: dm-tree~=0.1.1 in /mnt/files/miniconda3/envs/tfod/lib/python3.8/site-packages (from tensorflow-model-optimization>=0.4.1->tf-models-official>=2.5.1->object-detection==0.1) (0.1.7)\n",
      "Requirement already satisfied: orjson<4.0 in /mnt/files/miniconda3/envs/tfod/lib/python3.8/site-packages (from apache-beam->object-detection==0.1) (3.6.8)\n",
      "Requirement already satisfied: proto-plus<2,>=1.7.1 in /mnt/files/miniconda3/envs/tfod/lib/python3.8/site-packages (from apache-beam->object-detection==0.1) (1.20.5)\n",
      "Requirement already satisfied: pyarrow<8.0.0,>=0.15.1 in /mnt/files/miniconda3/envs/tfod/lib/python3.8/site-packages (from apache-beam->object-detection==0.1) (7.0.0)\n",
      "Requirement already satisfied: cloudpickle<3,>=2.0.0 in /mnt/files/miniconda3/envs/tfod/lib/python3.8/site-packages (from apache-beam->object-detection==0.1) (2.1.0)\n",
      "Requirement already satisfied: crcmod<2.0,>=1.7 in /mnt/files/miniconda3/envs/tfod/lib/python3.8/site-packages (from apache-beam->object-detection==0.1) (1.7)\n",
      "Requirement already satisfied: fastavro<2,>=0.23.6 in /mnt/files/miniconda3/envs/tfod/lib/python3.8/site-packages (from apache-beam->object-detection==0.1) (1.4.12)\n",
      "Requirement already satisfied: dill<0.3.2,>=0.3.1.1 in /mnt/files/miniconda3/envs/tfod/lib/python3.8/site-packages (from apache-beam->object-detection==0.1) (0.3.1.1)\n",
      "Requirement already satisfied: pydot<2,>=1.2.0 in /mnt/files/miniconda3/envs/tfod/lib/python3.8/site-packages (from apache-beam->object-detection==0.1) (1.4.2)\n",
      "Requirement already satisfied: pymongo<4.0.0,>=3.8.0 in /mnt/files/miniconda3/envs/tfod/lib/python3.8/site-packages (from apache-beam->object-detection==0.1) (3.12.3)\n",
      "Requirement already satisfied: hdfs<3.0.0,>=2.1.0 in /mnt/files/miniconda3/envs/tfod/lib/python3.8/site-packages (from apache-beam->object-detection==0.1) (2.7.0)\n"
     ]
    },
    {
     "name": "stdout",
     "output_type": "stream",
     "text": [
      "Requirement already satisfied: docopt in /mnt/files/miniconda3/envs/tfod/lib/python3.8/site-packages (from hdfs<3.0.0,>=2.1.0->apache-beam->object-detection==0.1) (0.6.2)\n",
      "Requirement already satisfied: opencv-python>=4.1.0.25 in /mnt/files/miniconda3/envs/tfod/lib/python3.8/site-packages (from lvis->object-detection==0.1) (4.5.5.64)\n",
      "Requirement already satisfied: cycler>=0.10.0 in /mnt/files/miniconda3/envs/tfod/lib/python3.8/site-packages (from lvis->object-detection==0.1) (0.11.0)\n",
      "Requirement already satisfied: kiwisolver>=1.1.0 in /mnt/files/miniconda3/envs/tfod/lib/python3.8/site-packages (from lvis->object-detection==0.1) (1.4.2)\n",
      "Requirement already satisfied: fonttools>=4.22.0 in /mnt/files/miniconda3/envs/tfod/lib/python3.8/site-packages (from matplotlib->object-detection==0.1) (4.33.3)\n",
      "Requirement already satisfied: text-unidecode>=1.3 in /mnt/files/miniconda3/envs/tfod/lib/python3.8/site-packages (from python-slugify->kaggle>=1.3.9->tf-models-official>=2.5.1->object-detection==0.1) (1.3)\n",
      "Requirement already satisfied: regex in /mnt/files/miniconda3/envs/tfod/lib/python3.8/site-packages (from sacrebleu->tf-models-official>=2.5.1->object-detection==0.1) (2022.4.24)\n",
      "Requirement already satisfied: colorama in /mnt/files/miniconda3/envs/tfod/lib/python3.8/site-packages (from sacrebleu->tf-models-official>=2.5.1->object-detection==0.1) (0.4.4)\n",
      "Requirement already satisfied: tabulate>=0.8.9 in /mnt/files/miniconda3/envs/tfod/lib/python3.8/site-packages (from sacrebleu->tf-models-official>=2.5.1->object-detection==0.1) (0.8.9)\n",
      "Requirement already satisfied: portalocker in /mnt/files/miniconda3/envs/tfod/lib/python3.8/site-packages (from sacrebleu->tf-models-official>=2.5.1->object-detection==0.1) (2.4.0)\n",
      "Requirement already satisfied: scikit-learn>=0.21.3 in /mnt/files/miniconda3/envs/tfod/lib/python3.8/site-packages (from seqeval->tf-models-official>=2.5.1->object-detection==0.1) (1.1.1)\n",
      "Requirement already satisfied: joblib>=1.0.0 in /mnt/files/miniconda3/envs/tfod/lib/python3.8/site-packages (from scikit-learn>=0.21.3->seqeval->tf-models-official>=2.5.1->object-detection==0.1) (1.1.0)\n",
      "Requirement already satisfied: threadpoolctl>=2.0.0 in /mnt/files/miniconda3/envs/tfod/lib/python3.8/site-packages (from scikit-learn>=0.21.3->seqeval->tf-models-official>=2.5.1->object-detection==0.1) (3.1.0)\n",
      "Requirement already satisfied: typeguard>=2.7 in /mnt/files/miniconda3/envs/tfod/lib/python3.8/site-packages (from tensorflow-addons->tf-models-official>=2.5.1->object-detection==0.1) (2.13.3)\n",
      "Requirement already satisfied: promise in /mnt/files/miniconda3/envs/tfod/lib/python3.8/site-packages (from tensorflow-datasets->tf-models-official>=2.5.1->object-detection==0.1) (2.3)\n",
      "Requirement already satisfied: importlib-resources in /mnt/files/miniconda3/envs/tfod/lib/python3.8/site-packages (from tensorflow-datasets->tf-models-official>=2.5.1->object-detection==0.1) (5.2.0)\n",
      "Requirement already satisfied: tensorflow-metadata in /mnt/files/miniconda3/envs/tfod/lib/python3.8/site-packages (from tensorflow-datasets->tf-models-official>=2.5.1->object-detection==0.1) (1.8.0)\n",
      "Building wheels for collected packages: object-detection\n",
      "  Building wheel for object-detection (setup.py) ... \u001b[?25ldone\n",
      "\u001b[?25h  Created wheel for object-detection: filename=object_detection-0.1-py3-none-any.whl size=1692965 sha256=4700537ed634f9c9dd03d8778b39e24ab3365e699f20c7487bccbf3ea73649f5\n",
      "  Stored in directory: /tmp/pip-ephem-wheel-cache-f6vdr0fq/wheels/29/87/b9/e270b3d3d9822c005a07dd42f3e8306b54f0d0357c7586eb83\n",
      "Successfully built object-detection\n",
      "Installing collected packages: object-detection\n",
      "  Attempting uninstall: object-detection\n",
      "    Found existing installation: object-detection 0.1\n",
      "    Uninstalling object-detection-0.1:\n",
      "      Successfully uninstalled object-detection-0.1\n",
      "Successfully installed object-detection-0.1\n"
     ]
    }
   ],
   "source": [
    "!cd Tensorflow/models/research && protoc object_detection/protos/*.proto --python_out=. && cp object_detection/packages/tf2/setup.py . && python -m pip install ."
   ]
  },
  {
   "cell_type": "code",
   "execution_count": 34,
   "id": "a6637b85",
   "metadata": {
    "colab": {
     "base_uri": "https://localhost:8080/"
    },
    "executionInfo": {
     "elapsed": 50651,
     "status": "ok",
     "timestamp": 1653474645165,
     "user": {
      "displayName": "Breno Alencar",
      "userId": "04592311811102011355"
     },
     "user_tz": 180
    },
    "id": "a6637b85",
    "outputId": "d2fcb51f-9e3e-444c-8f26-5309b1283179"
   },
   "outputs": [
    {
     "name": "stdout",
     "output_type": "stream",
     "text": [
      "2022-05-27 14:14:52.768635: I tensorflow/stream_executor/cuda/cuda_gpu_executor.cc:975] successful NUMA node read from SysFS had negative value (-1), but there must be at least one NUMA node, so returning NUMA node zero\n",
      "2022-05-27 14:14:52.772437: I tensorflow/stream_executor/cuda/cuda_gpu_executor.cc:975] successful NUMA node read from SysFS had negative value (-1), but there must be at least one NUMA node, so returning NUMA node zero\n",
      "2022-05-27 14:14:52.772582: I tensorflow/stream_executor/cuda/cuda_gpu_executor.cc:975] successful NUMA node read from SysFS had negative value (-1), but there must be at least one NUMA node, so returning NUMA node zero\n",
      "Running tests under Python 3.8.13: /mnt/files/miniconda3/envs/tfod/bin/python\n",
      "[ RUN      ] ModelBuilderTF2Test.test_create_center_net_deepmac\n",
      "2022-05-27 14:14:52.776545: I tensorflow/core/platform/cpu_feature_guard.cc:193] This TensorFlow binary is optimized with oneAPI Deep Neural Network Library (oneDNN) to use the following CPU instructions in performance-critical operations:  AVX2 FMA\n",
      "To enable them in other operations, rebuild TensorFlow with the appropriate compiler flags.\n",
      "2022-05-27 14:14:52.777009: I tensorflow/stream_executor/cuda/cuda_gpu_executor.cc:975] successful NUMA node read from SysFS had negative value (-1), but there must be at least one NUMA node, so returning NUMA node zero\n",
      "2022-05-27 14:14:52.777177: I tensorflow/stream_executor/cuda/cuda_gpu_executor.cc:975] successful NUMA node read from SysFS had negative value (-1), but there must be at least one NUMA node, so returning NUMA node zero\n",
      "2022-05-27 14:14:52.777273: I tensorflow/stream_executor/cuda/cuda_gpu_executor.cc:975] successful NUMA node read from SysFS had negative value (-1), but there must be at least one NUMA node, so returning NUMA node zero\n",
      "2022-05-27 14:14:53.106806: I tensorflow/stream_executor/cuda/cuda_gpu_executor.cc:975] successful NUMA node read from SysFS had negative value (-1), but there must be at least one NUMA node, so returning NUMA node zero\n",
      "2022-05-27 14:14:53.106954: I tensorflow/stream_executor/cuda/cuda_gpu_executor.cc:975] successful NUMA node read from SysFS had negative value (-1), but there must be at least one NUMA node, so returning NUMA node zero\n",
      "2022-05-27 14:14:53.107056: I tensorflow/stream_executor/cuda/cuda_gpu_executor.cc:975] successful NUMA node read from SysFS had negative value (-1), but there must be at least one NUMA node, so returning NUMA node zero\n",
      "2022-05-27 14:14:53.107134: I tensorflow/core/common_runtime/gpu/gpu_device.cc:1532] Created device /job:localhost/replica:0/task:0/device:GPU:0 with 9972 MB memory:  -> device: 0, name: NVIDIA GeForce RTX 3060, pci bus id: 0000:01:00.0, compute capability: 8.6\n",
      "/mnt/files/miniconda3/envs/tfod/lib/python3.8/site-packages/object_detection/builders/model_builder.py:1102: DeprecationWarning: The 'warn' function is deprecated, use 'warning' instead\n",
      "  logging.warn(('Building experimental DeepMAC meta-arch.'\n",
      "W0527 14:14:53.419296 140107205215296 model_builder.py:1102] Building experimental DeepMAC meta-arch. Some features may be omitted.\n",
      "INFO:tensorflow:time(__main__.ModelBuilderTF2Test.test_create_center_net_deepmac): 0.83s\n",
      "I0527 14:14:53.600673 140107205215296 test_util.py:2458] time(__main__.ModelBuilderTF2Test.test_create_center_net_deepmac): 0.83s\n",
      "[       OK ] ModelBuilderTF2Test.test_create_center_net_deepmac\n",
      "[ RUN      ] ModelBuilderTF2Test.test_create_center_net_model0 (customize_head_params=True)\n",
      "INFO:tensorflow:time(__main__.ModelBuilderTF2Test.test_create_center_net_model0 (customize_head_params=True)): 0.46s\n",
      "I0527 14:14:54.056221 140107205215296 test_util.py:2458] time(__main__.ModelBuilderTF2Test.test_create_center_net_model0 (customize_head_params=True)): 0.46s\n",
      "[       OK ] ModelBuilderTF2Test.test_create_center_net_model0 (customize_head_params=True)\n",
      "[ RUN      ] ModelBuilderTF2Test.test_create_center_net_model1 (customize_head_params=False)\n",
      "INFO:tensorflow:time(__main__.ModelBuilderTF2Test.test_create_center_net_model1 (customize_head_params=False)): 0.19s\n",
      "I0527 14:14:54.242479 140107205215296 test_util.py:2458] time(__main__.ModelBuilderTF2Test.test_create_center_net_model1 (customize_head_params=False)): 0.19s\n",
      "[       OK ] ModelBuilderTF2Test.test_create_center_net_model1 (customize_head_params=False)\n",
      "[ RUN      ] ModelBuilderTF2Test.test_create_center_net_model_from_keypoints\n",
      "INFO:tensorflow:time(__main__.ModelBuilderTF2Test.test_create_center_net_model_from_keypoints): 0.17s\n",
      "I0527 14:14:54.412295 140107205215296 test_util.py:2458] time(__main__.ModelBuilderTF2Test.test_create_center_net_model_from_keypoints): 0.17s\n",
      "[       OK ] ModelBuilderTF2Test.test_create_center_net_model_from_keypoints\n",
      "[ RUN      ] ModelBuilderTF2Test.test_create_center_net_model_mobilenet\n",
      "INFO:tensorflow:time(__main__.ModelBuilderTF2Test.test_create_center_net_model_mobilenet): 1.17s\n",
      "I0527 14:14:55.586895 140107205215296 test_util.py:2458] time(__main__.ModelBuilderTF2Test.test_create_center_net_model_mobilenet): 1.17s\n",
      "[       OK ] ModelBuilderTF2Test.test_create_center_net_model_mobilenet\n",
      "[ RUN      ] ModelBuilderTF2Test.test_create_experimental_model\n",
      "INFO:tensorflow:time(__main__.ModelBuilderTF2Test.test_create_experimental_model): 0.0s\n",
      "I0527 14:14:55.587569 140107205215296 test_util.py:2458] time(__main__.ModelBuilderTF2Test.test_create_experimental_model): 0.0s\n",
      "[       OK ] ModelBuilderTF2Test.test_create_experimental_model\n",
      "[ RUN      ] ModelBuilderTF2Test.test_create_faster_rcnn_from_config_with_crop_feature0 (True)\n",
      "INFO:tensorflow:time(__main__.ModelBuilderTF2Test.test_create_faster_rcnn_from_config_with_crop_feature0 (True)): 0.02s\n",
      "I0527 14:14:55.603365 140107205215296 test_util.py:2458] time(__main__.ModelBuilderTF2Test.test_create_faster_rcnn_from_config_with_crop_feature0 (True)): 0.02s\n",
      "[       OK ] ModelBuilderTF2Test.test_create_faster_rcnn_from_config_with_crop_feature0 (True)\n",
      "[ RUN      ] ModelBuilderTF2Test.test_create_faster_rcnn_from_config_with_crop_feature1 (False)\n",
      "INFO:tensorflow:time(__main__.ModelBuilderTF2Test.test_create_faster_rcnn_from_config_with_crop_feature1 (False)): 0.01s\n",
      "I0527 14:14:55.613789 140107205215296 test_util.py:2458] time(__main__.ModelBuilderTF2Test.test_create_faster_rcnn_from_config_with_crop_feature1 (False)): 0.01s\n",
      "[       OK ] ModelBuilderTF2Test.test_create_faster_rcnn_from_config_with_crop_feature1 (False)\n",
      "[ RUN      ] ModelBuilderTF2Test.test_create_faster_rcnn_model_from_config_with_example_miner\n",
      "INFO:tensorflow:time(__main__.ModelBuilderTF2Test.test_create_faster_rcnn_model_from_config_with_example_miner): 0.01s\n",
      "I0527 14:14:55.624298 140107205215296 test_util.py:2458] time(__main__.ModelBuilderTF2Test.test_create_faster_rcnn_model_from_config_with_example_miner): 0.01s\n",
      "[       OK ] ModelBuilderTF2Test.test_create_faster_rcnn_model_from_config_with_example_miner\n",
      "[ RUN      ] ModelBuilderTF2Test.test_create_faster_rcnn_models_from_config_faster_rcnn_with_matmul\n",
      "INFO:tensorflow:time(__main__.ModelBuilderTF2Test.test_create_faster_rcnn_models_from_config_faster_rcnn_with_matmul): 0.07s\n",
      "I0527 14:14:55.695085 140107205215296 test_util.py:2458] time(__main__.ModelBuilderTF2Test.test_create_faster_rcnn_models_from_config_faster_rcnn_with_matmul): 0.07s\n",
      "[       OK ] ModelBuilderTF2Test.test_create_faster_rcnn_models_from_config_faster_rcnn_with_matmul\n",
      "[ RUN      ] ModelBuilderTF2Test.test_create_faster_rcnn_models_from_config_faster_rcnn_without_matmul\n",
      "INFO:tensorflow:time(__main__.ModelBuilderTF2Test.test_create_faster_rcnn_models_from_config_faster_rcnn_without_matmul): 0.06s\n",
      "I0527 14:14:55.758806 140107205215296 test_util.py:2458] time(__main__.ModelBuilderTF2Test.test_create_faster_rcnn_models_from_config_faster_rcnn_without_matmul): 0.06s\n",
      "[       OK ] ModelBuilderTF2Test.test_create_faster_rcnn_models_from_config_faster_rcnn_without_matmul\n",
      "[ RUN      ] ModelBuilderTF2Test.test_create_faster_rcnn_models_from_config_mask_rcnn_with_matmul\n",
      "INFO:tensorflow:time(__main__.ModelBuilderTF2Test.test_create_faster_rcnn_models_from_config_mask_rcnn_with_matmul): 0.15s\n",
      "I0527 14:14:55.913048 140107205215296 test_util.py:2458] time(__main__.ModelBuilderTF2Test.test_create_faster_rcnn_models_from_config_mask_rcnn_with_matmul): 0.15s\n",
      "[       OK ] ModelBuilderTF2Test.test_create_faster_rcnn_models_from_config_mask_rcnn_with_matmul\n",
      "[ RUN      ] ModelBuilderTF2Test.test_create_faster_rcnn_models_from_config_mask_rcnn_without_matmul\n"
     ]
    },
    {
     "name": "stdout",
     "output_type": "stream",
     "text": [
      "INFO:tensorflow:time(__main__.ModelBuilderTF2Test.test_create_faster_rcnn_models_from_config_mask_rcnn_without_matmul): 0.07s\n",
      "I0527 14:14:55.979241 140107205215296 test_util.py:2458] time(__main__.ModelBuilderTF2Test.test_create_faster_rcnn_models_from_config_mask_rcnn_without_matmul): 0.07s\n",
      "[       OK ] ModelBuilderTF2Test.test_create_faster_rcnn_models_from_config_mask_rcnn_without_matmul\n",
      "[ RUN      ] ModelBuilderTF2Test.test_create_rfcn_model_from_config\n",
      "INFO:tensorflow:time(__main__.ModelBuilderTF2Test.test_create_rfcn_model_from_config): 0.06s\n",
      "I0527 14:14:56.043995 140107205215296 test_util.py:2458] time(__main__.ModelBuilderTF2Test.test_create_rfcn_model_from_config): 0.06s\n",
      "[       OK ] ModelBuilderTF2Test.test_create_rfcn_model_from_config\n",
      "[ RUN      ] ModelBuilderTF2Test.test_create_ssd_fpn_model_from_config\n",
      "INFO:tensorflow:time(__main__.ModelBuilderTF2Test.test_create_ssd_fpn_model_from_config): 0.02s\n",
      "I0527 14:14:56.063034 140107205215296 test_util.py:2458] time(__main__.ModelBuilderTF2Test.test_create_ssd_fpn_model_from_config): 0.02s\n",
      "[       OK ] ModelBuilderTF2Test.test_create_ssd_fpn_model_from_config\n",
      "[ RUN      ] ModelBuilderTF2Test.test_create_ssd_models_from_config\n",
      "I0527 14:14:56.185806 140107205215296 ssd_efficientnet_bifpn_feature_extractor.py:145] EfficientDet EfficientNet backbone version: efficientnet-b0\n",
      "I0527 14:14:56.185896 140107205215296 ssd_efficientnet_bifpn_feature_extractor.py:147] EfficientDet BiFPN num filters: 64\n",
      "I0527 14:14:56.185971 140107205215296 ssd_efficientnet_bifpn_feature_extractor.py:148] EfficientDet BiFPN num iterations: 3\n",
      "I0527 14:14:56.187596 140107205215296 efficientnet_model.py:143] round_filter input=32 output=32\n",
      "I0527 14:14:56.199212 140107205215296 efficientnet_model.py:143] round_filter input=32 output=32\n",
      "I0527 14:14:56.199292 140107205215296 efficientnet_model.py:143] round_filter input=16 output=16\n",
      "I0527 14:14:56.240169 140107205215296 efficientnet_model.py:143] round_filter input=16 output=16\n",
      "I0527 14:14:56.240262 140107205215296 efficientnet_model.py:143] round_filter input=24 output=24\n",
      "I0527 14:14:56.346634 140107205215296 efficientnet_model.py:143] round_filter input=24 output=24\n",
      "I0527 14:14:56.346725 140107205215296 efficientnet_model.py:143] round_filter input=40 output=40\n",
      "I0527 14:14:56.452151 140107205215296 efficientnet_model.py:143] round_filter input=40 output=40\n",
      "I0527 14:14:56.452241 140107205215296 efficientnet_model.py:143] round_filter input=80 output=80\n",
      "I0527 14:14:56.609538 140107205215296 efficientnet_model.py:143] round_filter input=80 output=80\n",
      "I0527 14:14:56.609631 140107205215296 efficientnet_model.py:143] round_filter input=112 output=112\n",
      "I0527 14:14:56.770900 140107205215296 efficientnet_model.py:143] round_filter input=112 output=112\n",
      "I0527 14:14:56.770992 140107205215296 efficientnet_model.py:143] round_filter input=192 output=192\n",
      "I0527 14:14:56.984233 140107205215296 efficientnet_model.py:143] round_filter input=192 output=192\n",
      "I0527 14:14:56.984326 140107205215296 efficientnet_model.py:143] round_filter input=320 output=320\n",
      "I0527 14:14:57.035964 140107205215296 efficientnet_model.py:143] round_filter input=1280 output=1280\n",
      "I0527 14:14:57.057433 140107205215296 efficientnet_model.py:453] Building model efficientnet with params ModelConfig(width_coefficient=1.0, depth_coefficient=1.0, resolution=224, dropout_rate=0.2, blocks=(BlockConfig(input_filters=32, output_filters=16, kernel_size=3, num_repeat=1, expand_ratio=1, strides=(1, 1), se_ratio=0.25, id_skip=True, fused_conv=False, conv_type='depthwise'), BlockConfig(input_filters=16, output_filters=24, kernel_size=3, num_repeat=2, expand_ratio=6, strides=(2, 2), se_ratio=0.25, id_skip=True, fused_conv=False, conv_type='depthwise'), BlockConfig(input_filters=24, output_filters=40, kernel_size=5, num_repeat=2, expand_ratio=6, strides=(2, 2), se_ratio=0.25, id_skip=True, fused_conv=False, conv_type='depthwise'), BlockConfig(input_filters=40, output_filters=80, kernel_size=3, num_repeat=3, expand_ratio=6, strides=(2, 2), se_ratio=0.25, id_skip=True, fused_conv=False, conv_type='depthwise'), BlockConfig(input_filters=80, output_filters=112, kernel_size=5, num_repeat=3, expand_ratio=6, strides=(1, 1), se_ratio=0.25, id_skip=True, fused_conv=False, conv_type='depthwise'), BlockConfig(input_filters=112, output_filters=192, kernel_size=5, num_repeat=4, expand_ratio=6, strides=(2, 2), se_ratio=0.25, id_skip=True, fused_conv=False, conv_type='depthwise'), BlockConfig(input_filters=192, output_filters=320, kernel_size=3, num_repeat=1, expand_ratio=6, strides=(1, 1), se_ratio=0.25, id_skip=True, fused_conv=False, conv_type='depthwise')), stem_base_filters=32, top_base_filters=1280, activation='simple_swish', batch_norm='default', bn_momentum=0.99, bn_epsilon=0.001, weight_decay=5e-06, drop_connect_rate=0.2, depth_divisor=8, min_depth=None, use_se=True, input_channels=3, num_classes=1000, model_name='efficientnet', rescale_input=False, data_format='channels_last', dtype='float32')\n",
      "I0527 14:14:57.092714 140107205215296 ssd_efficientnet_bifpn_feature_extractor.py:145] EfficientDet EfficientNet backbone version: efficientnet-b1\n",
      "I0527 14:14:57.092808 140107205215296 ssd_efficientnet_bifpn_feature_extractor.py:147] EfficientDet BiFPN num filters: 88\n",
      "I0527 14:14:57.092860 140107205215296 ssd_efficientnet_bifpn_feature_extractor.py:148] EfficientDet BiFPN num iterations: 4\n",
      "I0527 14:14:57.094052 140107205215296 efficientnet_model.py:143] round_filter input=32 output=32\n",
      "I0527 14:14:57.105061 140107205215296 efficientnet_model.py:143] round_filter input=32 output=32\n",
      "I0527 14:14:57.105137 140107205215296 efficientnet_model.py:143] round_filter input=16 output=16\n",
      "I0527 14:14:57.189708 140107205215296 efficientnet_model.py:143] round_filter input=16 output=16\n",
      "I0527 14:14:57.189806 140107205215296 efficientnet_model.py:143] round_filter input=24 output=24\n",
      "I0527 14:14:57.347915 140107205215296 efficientnet_model.py:143] round_filter input=24 output=24\n",
      "I0527 14:14:57.348008 140107205215296 efficientnet_model.py:143] round_filter input=40 output=40\n",
      "I0527 14:14:57.511807 140107205215296 efficientnet_model.py:143] round_filter input=40 output=40\n",
      "I0527 14:14:57.511901 140107205215296 efficientnet_model.py:143] round_filter input=80 output=80\n",
      "I0527 14:14:57.732229 140107205215296 efficientnet_model.py:143] round_filter input=80 output=80\n",
      "I0527 14:14:57.732324 140107205215296 efficientnet_model.py:143] round_filter input=112 output=112\n",
      "I0527 14:14:57.952207 140107205215296 efficientnet_model.py:143] round_filter input=112 output=112\n",
      "I0527 14:14:57.952297 140107205215296 efficientnet_model.py:143] round_filter input=192 output=192\n",
      "I0527 14:14:58.214738 140107205215296 efficientnet_model.py:143] round_filter input=192 output=192\n",
      "I0527 14:14:58.214835 140107205215296 efficientnet_model.py:143] round_filter input=320 output=320\n",
      "I0527 14:14:58.321030 140107205215296 efficientnet_model.py:143] round_filter input=1280 output=1280\n",
      "I0527 14:14:58.343210 140107205215296 efficientnet_model.py:453] Building model efficientnet with params ModelConfig(width_coefficient=1.0, depth_coefficient=1.1, resolution=240, dropout_rate=0.2, blocks=(BlockConfig(input_filters=32, output_filters=16, kernel_size=3, num_repeat=1, expand_ratio=1, strides=(1, 1), se_ratio=0.25, id_skip=True, fused_conv=False, conv_type='depthwise'), BlockConfig(input_filters=16, output_filters=24, kernel_size=3, num_repeat=2, expand_ratio=6, strides=(2, 2), se_ratio=0.25, id_skip=True, fused_conv=False, conv_type='depthwise'), BlockConfig(input_filters=24, output_filters=40, kernel_size=5, num_repeat=2, expand_ratio=6, strides=(2, 2), se_ratio=0.25, id_skip=True, fused_conv=False, conv_type='depthwise'), BlockConfig(input_filters=40, output_filters=80, kernel_size=3, num_repeat=3, expand_ratio=6, strides=(2, 2), se_ratio=0.25, id_skip=True, fused_conv=False, conv_type='depthwise'), BlockConfig(input_filters=80, output_filters=112, kernel_size=5, num_repeat=3, expand_ratio=6, strides=(1, 1), se_ratio=0.25, id_skip=True, fused_conv=False, conv_type='depthwise'), BlockConfig(input_filters=112, output_filters=192, kernel_size=5, num_repeat=4, expand_ratio=6, strides=(2, 2), se_ratio=0.25, id_skip=True, fused_conv=False, conv_type='depthwise'), BlockConfig(input_filters=192, output_filters=320, kernel_size=3, num_repeat=1, expand_ratio=6, strides=(1, 1), se_ratio=0.25, id_skip=True, fused_conv=False, conv_type='depthwise')), stem_base_filters=32, top_base_filters=1280, activation='simple_swish', batch_norm='default', bn_momentum=0.99, bn_epsilon=0.001, weight_decay=5e-06, drop_connect_rate=0.2, depth_divisor=8, min_depth=None, use_se=True, input_channels=3, num_classes=1000, model_name='efficientnet', rescale_input=False, data_format='channels_last', dtype='float32')\n"
     ]
    },
    {
     "name": "stdout",
     "output_type": "stream",
     "text": [
      "I0527 14:14:58.388234 140107205215296 ssd_efficientnet_bifpn_feature_extractor.py:145] EfficientDet EfficientNet backbone version: efficientnet-b2\n",
      "I0527 14:14:58.388338 140107205215296 ssd_efficientnet_bifpn_feature_extractor.py:147] EfficientDet BiFPN num filters: 112\n",
      "I0527 14:14:58.388404 140107205215296 ssd_efficientnet_bifpn_feature_extractor.py:148] EfficientDet BiFPN num iterations: 5\n",
      "I0527 14:14:58.389721 140107205215296 efficientnet_model.py:143] round_filter input=32 output=32\n",
      "I0527 14:14:58.401432 140107205215296 efficientnet_model.py:143] round_filter input=32 output=32\n",
      "I0527 14:14:58.401524 140107205215296 efficientnet_model.py:143] round_filter input=16 output=16\n",
      "I0527 14:14:58.591074 140107205215296 efficientnet_model.py:143] round_filter input=16 output=16\n",
      "I0527 14:14:58.591169 140107205215296 efficientnet_model.py:143] round_filter input=24 output=24\n",
      "I0527 14:14:58.765076 140107205215296 efficientnet_model.py:143] round_filter input=24 output=24\n",
      "I0527 14:14:58.765172 140107205215296 efficientnet_model.py:143] round_filter input=40 output=48\n",
      "I0527 14:14:58.938985 140107205215296 efficientnet_model.py:143] round_filter input=40 output=48\n",
      "I0527 14:14:58.939083 140107205215296 efficientnet_model.py:143] round_filter input=80 output=88\n",
      "I0527 14:14:59.165726 140107205215296 efficientnet_model.py:143] round_filter input=80 output=88\n",
      "I0527 14:14:59.165820 140107205215296 efficientnet_model.py:143] round_filter input=112 output=120\n",
      "I0527 14:14:59.391758 140107205215296 efficientnet_model.py:143] round_filter input=112 output=120\n",
      "I0527 14:14:59.391852 140107205215296 efficientnet_model.py:143] round_filter input=192 output=208\n",
      "I0527 14:14:59.659064 140107205215296 efficientnet_model.py:143] round_filter input=192 output=208\n",
      "I0527 14:14:59.659158 140107205215296 efficientnet_model.py:143] round_filter input=320 output=352\n",
      "I0527 14:14:59.765229 140107205215296 efficientnet_model.py:143] round_filter input=1280 output=1408\n",
      "I0527 14:14:59.785110 140107205215296 efficientnet_model.py:453] Building model efficientnet with params ModelConfig(width_coefficient=1.1, depth_coefficient=1.2, resolution=260, dropout_rate=0.3, blocks=(BlockConfig(input_filters=32, output_filters=16, kernel_size=3, num_repeat=1, expand_ratio=1, strides=(1, 1), se_ratio=0.25, id_skip=True, fused_conv=False, conv_type='depthwise'), BlockConfig(input_filters=16, output_filters=24, kernel_size=3, num_repeat=2, expand_ratio=6, strides=(2, 2), se_ratio=0.25, id_skip=True, fused_conv=False, conv_type='depthwise'), BlockConfig(input_filters=24, output_filters=40, kernel_size=5, num_repeat=2, expand_ratio=6, strides=(2, 2), se_ratio=0.25, id_skip=True, fused_conv=False, conv_type='depthwise'), BlockConfig(input_filters=40, output_filters=80, kernel_size=3, num_repeat=3, expand_ratio=6, strides=(2, 2), se_ratio=0.25, id_skip=True, fused_conv=False, conv_type='depthwise'), BlockConfig(input_filters=80, output_filters=112, kernel_size=5, num_repeat=3, expand_ratio=6, strides=(1, 1), se_ratio=0.25, id_skip=True, fused_conv=False, conv_type='depthwise'), BlockConfig(input_filters=112, output_filters=192, kernel_size=5, num_repeat=4, expand_ratio=6, strides=(2, 2), se_ratio=0.25, id_skip=True, fused_conv=False, conv_type='depthwise'), BlockConfig(input_filters=192, output_filters=320, kernel_size=3, num_repeat=1, expand_ratio=6, strides=(1, 1), se_ratio=0.25, id_skip=True, fused_conv=False, conv_type='depthwise')), stem_base_filters=32, top_base_filters=1280, activation='simple_swish', batch_norm='default', bn_momentum=0.99, bn_epsilon=0.001, weight_decay=5e-06, drop_connect_rate=0.2, depth_divisor=8, min_depth=None, use_se=True, input_channels=3, num_classes=1000, model_name='efficientnet', rescale_input=False, data_format='channels_last', dtype='float32')\n",
      "I0527 14:14:59.827349 140107205215296 ssd_efficientnet_bifpn_feature_extractor.py:145] EfficientDet EfficientNet backbone version: efficientnet-b3\n",
      "I0527 14:14:59.827443 140107205215296 ssd_efficientnet_bifpn_feature_extractor.py:147] EfficientDet BiFPN num filters: 160\n",
      "I0527 14:14:59.827486 140107205215296 ssd_efficientnet_bifpn_feature_extractor.py:148] EfficientDet BiFPN num iterations: 6\n",
      "I0527 14:14:59.828558 140107205215296 efficientnet_model.py:143] round_filter input=32 output=40\n",
      "I0527 14:14:59.839662 140107205215296 efficientnet_model.py:143] round_filter input=32 output=40\n",
      "I0527 14:14:59.839741 140107205215296 efficientnet_model.py:143] round_filter input=16 output=24\n",
      "I0527 14:14:59.924019 140107205215296 efficientnet_model.py:143] round_filter input=16 output=24\n",
      "I0527 14:14:59.924110 140107205215296 efficientnet_model.py:143] round_filter input=24 output=32\n",
      "I0527 14:15:00.083208 140107205215296 efficientnet_model.py:143] round_filter input=24 output=32\n",
      "I0527 14:15:00.083301 140107205215296 efficientnet_model.py:143] round_filter input=40 output=48\n",
      "I0527 14:15:00.241376 140107205215296 efficientnet_model.py:143] round_filter input=40 output=48\n",
      "I0527 14:15:00.241469 140107205215296 efficientnet_model.py:143] round_filter input=80 output=96\n",
      "I0527 14:15:00.509047 140107205215296 efficientnet_model.py:143] round_filter input=80 output=96\n",
      "I0527 14:15:00.509140 140107205215296 efficientnet_model.py:143] round_filter input=112 output=136\n",
      "I0527 14:15:00.775127 140107205215296 efficientnet_model.py:143] round_filter input=112 output=136\n",
      "I0527 14:15:00.775220 140107205215296 efficientnet_model.py:143] round_filter input=192 output=232\n",
      "I0527 14:15:01.095046 140107205215296 efficientnet_model.py:143] round_filter input=192 output=232\n",
      "I0527 14:15:01.095141 140107205215296 efficientnet_model.py:143] round_filter input=320 output=384\n",
      "I0527 14:15:01.199563 140107205215296 efficientnet_model.py:143] round_filter input=1280 output=1536\n",
      "I0527 14:15:01.220462 140107205215296 efficientnet_model.py:453] Building model efficientnet with params ModelConfig(width_coefficient=1.2, depth_coefficient=1.4, resolution=300, dropout_rate=0.3, blocks=(BlockConfig(input_filters=32, output_filters=16, kernel_size=3, num_repeat=1, expand_ratio=1, strides=(1, 1), se_ratio=0.25, id_skip=True, fused_conv=False, conv_type='depthwise'), BlockConfig(input_filters=16, output_filters=24, kernel_size=3, num_repeat=2, expand_ratio=6, strides=(2, 2), se_ratio=0.25, id_skip=True, fused_conv=False, conv_type='depthwise'), BlockConfig(input_filters=24, output_filters=40, kernel_size=5, num_repeat=2, expand_ratio=6, strides=(2, 2), se_ratio=0.25, id_skip=True, fused_conv=False, conv_type='depthwise'), BlockConfig(input_filters=40, output_filters=80, kernel_size=3, num_repeat=3, expand_ratio=6, strides=(2, 2), se_ratio=0.25, id_skip=True, fused_conv=False, conv_type='depthwise'), BlockConfig(input_filters=80, output_filters=112, kernel_size=5, num_repeat=3, expand_ratio=6, strides=(1, 1), se_ratio=0.25, id_skip=True, fused_conv=False, conv_type='depthwise'), BlockConfig(input_filters=112, output_filters=192, kernel_size=5, num_repeat=4, expand_ratio=6, strides=(2, 2), se_ratio=0.25, id_skip=True, fused_conv=False, conv_type='depthwise'), BlockConfig(input_filters=192, output_filters=320, kernel_size=3, num_repeat=1, expand_ratio=6, strides=(1, 1), se_ratio=0.25, id_skip=True, fused_conv=False, conv_type='depthwise')), stem_base_filters=32, top_base_filters=1280, activation='simple_swish', batch_norm='default', bn_momentum=0.99, bn_epsilon=0.001, weight_decay=5e-06, drop_connect_rate=0.2, depth_divisor=8, min_depth=None, use_se=True, input_channels=3, num_classes=1000, model_name='efficientnet', rescale_input=False, data_format='channels_last', dtype='float32')\n",
      "I0527 14:15:01.264058 140107205215296 ssd_efficientnet_bifpn_feature_extractor.py:145] EfficientDet EfficientNet backbone version: efficientnet-b4\n",
      "I0527 14:15:01.264150 140107205215296 ssd_efficientnet_bifpn_feature_extractor.py:147] EfficientDet BiFPN num filters: 224\n",
      "I0527 14:15:01.264193 140107205215296 ssd_efficientnet_bifpn_feature_extractor.py:148] EfficientDet BiFPN num iterations: 7\n",
      "I0527 14:15:01.265262 140107205215296 efficientnet_model.py:143] round_filter input=32 output=48\n",
      "I0527 14:15:01.276904 140107205215296 efficientnet_model.py:143] round_filter input=32 output=48\n",
      "I0527 14:15:01.276985 140107205215296 efficientnet_model.py:143] round_filter input=16 output=24\n"
     ]
    },
    {
     "name": "stdout",
     "output_type": "stream",
     "text": [
      "I0527 14:15:01.360399 140107205215296 efficientnet_model.py:143] round_filter input=16 output=24\n",
      "I0527 14:15:01.360491 140107205215296 efficientnet_model.py:143] round_filter input=24 output=32\n",
      "I0527 14:15:01.572720 140107205215296 efficientnet_model.py:143] round_filter input=24 output=32\n",
      "I0527 14:15:01.572814 140107205215296 efficientnet_model.py:143] round_filter input=40 output=56\n",
      "I0527 14:15:01.796298 140107205215296 efficientnet_model.py:143] round_filter input=40 output=56\n",
      "I0527 14:15:01.796429 140107205215296 efficientnet_model.py:143] round_filter input=80 output=112\n",
      "I0527 14:15:02.231497 140107205215296 efficientnet_model.py:143] round_filter input=80 output=112\n",
      "I0527 14:15:02.231589 140107205215296 efficientnet_model.py:143] round_filter input=112 output=160\n",
      "I0527 14:15:02.554822 140107205215296 efficientnet_model.py:143] round_filter input=112 output=160\n",
      "I0527 14:15:02.554919 140107205215296 efficientnet_model.py:143] round_filter input=192 output=272\n",
      "I0527 14:15:02.983266 140107205215296 efficientnet_model.py:143] round_filter input=192 output=272\n",
      "I0527 14:15:02.983361 140107205215296 efficientnet_model.py:143] round_filter input=320 output=448\n",
      "I0527 14:15:03.088197 140107205215296 efficientnet_model.py:143] round_filter input=1280 output=1792\n",
      "I0527 14:15:03.109726 140107205215296 efficientnet_model.py:453] Building model efficientnet with params ModelConfig(width_coefficient=1.4, depth_coefficient=1.8, resolution=380, dropout_rate=0.4, blocks=(BlockConfig(input_filters=32, output_filters=16, kernel_size=3, num_repeat=1, expand_ratio=1, strides=(1, 1), se_ratio=0.25, id_skip=True, fused_conv=False, conv_type='depthwise'), BlockConfig(input_filters=16, output_filters=24, kernel_size=3, num_repeat=2, expand_ratio=6, strides=(2, 2), se_ratio=0.25, id_skip=True, fused_conv=False, conv_type='depthwise'), BlockConfig(input_filters=24, output_filters=40, kernel_size=5, num_repeat=2, expand_ratio=6, strides=(2, 2), se_ratio=0.25, id_skip=True, fused_conv=False, conv_type='depthwise'), BlockConfig(input_filters=40, output_filters=80, kernel_size=3, num_repeat=3, expand_ratio=6, strides=(2, 2), se_ratio=0.25, id_skip=True, fused_conv=False, conv_type='depthwise'), BlockConfig(input_filters=80, output_filters=112, kernel_size=5, num_repeat=3, expand_ratio=6, strides=(1, 1), se_ratio=0.25, id_skip=True, fused_conv=False, conv_type='depthwise'), BlockConfig(input_filters=112, output_filters=192, kernel_size=5, num_repeat=4, expand_ratio=6, strides=(2, 2), se_ratio=0.25, id_skip=True, fused_conv=False, conv_type='depthwise'), BlockConfig(input_filters=192, output_filters=320, kernel_size=3, num_repeat=1, expand_ratio=6, strides=(1, 1), se_ratio=0.25, id_skip=True, fused_conv=False, conv_type='depthwise')), stem_base_filters=32, top_base_filters=1280, activation='simple_swish', batch_norm='default', bn_momentum=0.99, bn_epsilon=0.001, weight_decay=5e-06, drop_connect_rate=0.2, depth_divisor=8, min_depth=None, use_se=True, input_channels=3, num_classes=1000, model_name='efficientnet', rescale_input=False, data_format='channels_last', dtype='float32')\n",
      "I0527 14:15:03.160472 140107205215296 ssd_efficientnet_bifpn_feature_extractor.py:145] EfficientDet EfficientNet backbone version: efficientnet-b5\n",
      "I0527 14:15:03.160564 140107205215296 ssd_efficientnet_bifpn_feature_extractor.py:147] EfficientDet BiFPN num filters: 288\n",
      "I0527 14:15:03.160605 140107205215296 ssd_efficientnet_bifpn_feature_extractor.py:148] EfficientDet BiFPN num iterations: 7\n",
      "I0527 14:15:03.161678 140107205215296 efficientnet_model.py:143] round_filter input=32 output=48\n",
      "I0527 14:15:03.172396 140107205215296 efficientnet_model.py:143] round_filter input=32 output=48\n",
      "I0527 14:15:03.172469 140107205215296 efficientnet_model.py:143] round_filter input=16 output=24\n",
      "I0527 14:15:03.299893 140107205215296 efficientnet_model.py:143] round_filter input=16 output=24\n",
      "I0527 14:15:03.299986 140107205215296 efficientnet_model.py:143] round_filter input=24 output=40\n",
      "I0527 14:15:03.564901 140107205215296 efficientnet_model.py:143] round_filter input=24 output=40\n",
      "I0527 14:15:03.564993 140107205215296 efficientnet_model.py:143] round_filter input=40 output=64\n",
      "I0527 14:15:03.830820 140107205215296 efficientnet_model.py:143] round_filter input=40 output=64\n",
      "I0527 14:15:03.830914 140107205215296 efficientnet_model.py:143] round_filter input=80 output=128\n",
      "I0527 14:15:04.203655 140107205215296 efficientnet_model.py:143] round_filter input=80 output=128\n",
      "I0527 14:15:04.203750 140107205215296 efficientnet_model.py:143] round_filter input=112 output=176\n",
      "I0527 14:15:04.575187 140107205215296 efficientnet_model.py:143] round_filter input=112 output=176\n",
      "I0527 14:15:04.575283 140107205215296 efficientnet_model.py:143] round_filter input=192 output=304\n",
      "I0527 14:15:05.058571 140107205215296 efficientnet_model.py:143] round_filter input=192 output=304\n",
      "I0527 14:15:05.058668 140107205215296 efficientnet_model.py:143] round_filter input=320 output=512\n",
      "I0527 14:15:05.217646 140107205215296 efficientnet_model.py:143] round_filter input=1280 output=2048\n",
      "I0527 14:15:05.237853 140107205215296 efficientnet_model.py:453] Building model efficientnet with params ModelConfig(width_coefficient=1.6, depth_coefficient=2.2, resolution=456, dropout_rate=0.4, blocks=(BlockConfig(input_filters=32, output_filters=16, kernel_size=3, num_repeat=1, expand_ratio=1, strides=(1, 1), se_ratio=0.25, id_skip=True, fused_conv=False, conv_type='depthwise'), BlockConfig(input_filters=16, output_filters=24, kernel_size=3, num_repeat=2, expand_ratio=6, strides=(2, 2), se_ratio=0.25, id_skip=True, fused_conv=False, conv_type='depthwise'), BlockConfig(input_filters=24, output_filters=40, kernel_size=5, num_repeat=2, expand_ratio=6, strides=(2, 2), se_ratio=0.25, id_skip=True, fused_conv=False, conv_type='depthwise'), BlockConfig(input_filters=40, output_filters=80, kernel_size=3, num_repeat=3, expand_ratio=6, strides=(2, 2), se_ratio=0.25, id_skip=True, fused_conv=False, conv_type='depthwise'), BlockConfig(input_filters=80, output_filters=112, kernel_size=5, num_repeat=3, expand_ratio=6, strides=(1, 1), se_ratio=0.25, id_skip=True, fused_conv=False, conv_type='depthwise'), BlockConfig(input_filters=112, output_filters=192, kernel_size=5, num_repeat=4, expand_ratio=6, strides=(2, 2), se_ratio=0.25, id_skip=True, fused_conv=False, conv_type='depthwise'), BlockConfig(input_filters=192, output_filters=320, kernel_size=3, num_repeat=1, expand_ratio=6, strides=(1, 1), se_ratio=0.25, id_skip=True, fused_conv=False, conv_type='depthwise')), stem_base_filters=32, top_base_filters=1280, activation='simple_swish', batch_norm='default', bn_momentum=0.99, bn_epsilon=0.001, weight_decay=5e-06, drop_connect_rate=0.2, depth_divisor=8, min_depth=None, use_se=True, input_channels=3, num_classes=1000, model_name='efficientnet', rescale_input=False, data_format='channels_last', dtype='float32')\n",
      "I0527 14:15:05.296538 140107205215296 ssd_efficientnet_bifpn_feature_extractor.py:145] EfficientDet EfficientNet backbone version: efficientnet-b6\n",
      "I0527 14:15:05.296631 140107205215296 ssd_efficientnet_bifpn_feature_extractor.py:147] EfficientDet BiFPN num filters: 384\n",
      "I0527 14:15:05.296704 140107205215296 ssd_efficientnet_bifpn_feature_extractor.py:148] EfficientDet BiFPN num iterations: 8\n",
      "I0527 14:15:05.297782 140107205215296 efficientnet_model.py:143] round_filter input=32 output=56\n",
      "I0527 14:15:05.309663 140107205215296 efficientnet_model.py:143] round_filter input=32 output=56\n",
      "I0527 14:15:05.309753 140107205215296 efficientnet_model.py:143] round_filter input=16 output=32\n",
      "I0527 14:15:05.436950 140107205215296 efficientnet_model.py:143] round_filter input=16 output=32\n",
      "I0527 14:15:05.437043 140107205215296 efficientnet_model.py:143] round_filter input=24 output=40\n",
      "I0527 14:15:05.765143 140107205215296 efficientnet_model.py:143] round_filter input=24 output=40\n",
      "I0527 14:15:05.765263 140107205215296 efficientnet_model.py:143] round_filter input=40 output=72\n",
      "I0527 14:15:06.226048 140107205215296 efficientnet_model.py:143] round_filter input=40 output=72\n",
      "I0527 14:15:06.226141 140107205215296 efficientnet_model.py:143] round_filter input=80 output=144\n",
      "I0527 14:15:06.654111 140107205215296 efficientnet_model.py:143] round_filter input=80 output=144\n",
      "I0527 14:15:06.654206 140107205215296 efficientnet_model.py:143] round_filter input=112 output=200\n"
     ]
    },
    {
     "name": "stdout",
     "output_type": "stream",
     "text": [
      "I0527 14:15:07.083376 140107205215296 efficientnet_model.py:143] round_filter input=112 output=200\n",
      "I0527 14:15:07.083472 140107205215296 efficientnet_model.py:143] round_filter input=192 output=344\n",
      "I0527 14:15:07.672927 140107205215296 efficientnet_model.py:143] round_filter input=192 output=344\n",
      "I0527 14:15:07.673022 140107205215296 efficientnet_model.py:143] round_filter input=320 output=576\n",
      "I0527 14:15:07.832327 140107205215296 efficientnet_model.py:143] round_filter input=1280 output=2304\n",
      "I0527 14:15:07.852010 140107205215296 efficientnet_model.py:453] Building model efficientnet with params ModelConfig(width_coefficient=1.8, depth_coefficient=2.6, resolution=528, dropout_rate=0.5, blocks=(BlockConfig(input_filters=32, output_filters=16, kernel_size=3, num_repeat=1, expand_ratio=1, strides=(1, 1), se_ratio=0.25, id_skip=True, fused_conv=False, conv_type='depthwise'), BlockConfig(input_filters=16, output_filters=24, kernel_size=3, num_repeat=2, expand_ratio=6, strides=(2, 2), se_ratio=0.25, id_skip=True, fused_conv=False, conv_type='depthwise'), BlockConfig(input_filters=24, output_filters=40, kernel_size=5, num_repeat=2, expand_ratio=6, strides=(2, 2), se_ratio=0.25, id_skip=True, fused_conv=False, conv_type='depthwise'), BlockConfig(input_filters=40, output_filters=80, kernel_size=3, num_repeat=3, expand_ratio=6, strides=(2, 2), se_ratio=0.25, id_skip=True, fused_conv=False, conv_type='depthwise'), BlockConfig(input_filters=80, output_filters=112, kernel_size=5, num_repeat=3, expand_ratio=6, strides=(1, 1), se_ratio=0.25, id_skip=True, fused_conv=False, conv_type='depthwise'), BlockConfig(input_filters=112, output_filters=192, kernel_size=5, num_repeat=4, expand_ratio=6, strides=(2, 2), se_ratio=0.25, id_skip=True, fused_conv=False, conv_type='depthwise'), BlockConfig(input_filters=192, output_filters=320, kernel_size=3, num_repeat=1, expand_ratio=6, strides=(1, 1), se_ratio=0.25, id_skip=True, fused_conv=False, conv_type='depthwise')), stem_base_filters=32, top_base_filters=1280, activation='simple_swish', batch_norm='default', bn_momentum=0.99, bn_epsilon=0.001, weight_decay=5e-06, drop_connect_rate=0.2, depth_divisor=8, min_depth=None, use_se=True, input_channels=3, num_classes=1000, model_name='efficientnet', rescale_input=False, data_format='channels_last', dtype='float32')\n",
      "I0527 14:15:07.919284 140107205215296 ssd_efficientnet_bifpn_feature_extractor.py:145] EfficientDet EfficientNet backbone version: efficientnet-b7\n",
      "I0527 14:15:07.919379 140107205215296 ssd_efficientnet_bifpn_feature_extractor.py:147] EfficientDet BiFPN num filters: 384\n",
      "I0527 14:15:07.919421 140107205215296 ssd_efficientnet_bifpn_feature_extractor.py:148] EfficientDet BiFPN num iterations: 8\n",
      "I0527 14:15:07.920498 140107205215296 efficientnet_model.py:143] round_filter input=32 output=64\n",
      "I0527 14:15:07.931068 140107205215296 efficientnet_model.py:143] round_filter input=32 output=64\n",
      "I0527 14:15:07.931138 140107205215296 efficientnet_model.py:143] round_filter input=16 output=32\n",
      "I0527 14:15:08.102419 140107205215296 efficientnet_model.py:143] round_filter input=16 output=32\n",
      "I0527 14:15:08.102511 140107205215296 efficientnet_model.py:143] round_filter input=24 output=48\n",
      "I0527 14:15:08.472800 140107205215296 efficientnet_model.py:143] round_filter input=24 output=48\n",
      "I0527 14:15:08.472897 140107205215296 efficientnet_model.py:143] round_filter input=40 output=80\n",
      "I0527 14:15:08.846486 140107205215296 efficientnet_model.py:143] round_filter input=40 output=80\n",
      "I0527 14:15:08.846580 140107205215296 efficientnet_model.py:143] round_filter input=80 output=160\n",
      "I0527 14:15:09.379612 140107205215296 efficientnet_model.py:143] round_filter input=80 output=160\n",
      "I0527 14:15:09.379710 140107205215296 efficientnet_model.py:143] round_filter input=112 output=224\n",
      "I0527 14:15:09.928384 140107205215296 efficientnet_model.py:143] round_filter input=112 output=224\n",
      "I0527 14:15:09.928481 140107205215296 efficientnet_model.py:143] round_filter input=192 output=384\n",
      "I0527 14:15:10.775938 140107205215296 efficientnet_model.py:143] round_filter input=192 output=384\n",
      "I0527 14:15:10.776033 140107205215296 efficientnet_model.py:143] round_filter input=320 output=640\n",
      "I0527 14:15:10.990606 140107205215296 efficientnet_model.py:143] round_filter input=1280 output=2560\n",
      "I0527 14:15:11.010775 140107205215296 efficientnet_model.py:453] Building model efficientnet with params ModelConfig(width_coefficient=2.0, depth_coefficient=3.1, resolution=600, dropout_rate=0.5, blocks=(BlockConfig(input_filters=32, output_filters=16, kernel_size=3, num_repeat=1, expand_ratio=1, strides=(1, 1), se_ratio=0.25, id_skip=True, fused_conv=False, conv_type='depthwise'), BlockConfig(input_filters=16, output_filters=24, kernel_size=3, num_repeat=2, expand_ratio=6, strides=(2, 2), se_ratio=0.25, id_skip=True, fused_conv=False, conv_type='depthwise'), BlockConfig(input_filters=24, output_filters=40, kernel_size=5, num_repeat=2, expand_ratio=6, strides=(2, 2), se_ratio=0.25, id_skip=True, fused_conv=False, conv_type='depthwise'), BlockConfig(input_filters=40, output_filters=80, kernel_size=3, num_repeat=3, expand_ratio=6, strides=(2, 2), se_ratio=0.25, id_skip=True, fused_conv=False, conv_type='depthwise'), BlockConfig(input_filters=80, output_filters=112, kernel_size=5, num_repeat=3, expand_ratio=6, strides=(1, 1), se_ratio=0.25, id_skip=True, fused_conv=False, conv_type='depthwise'), BlockConfig(input_filters=112, output_filters=192, kernel_size=5, num_repeat=4, expand_ratio=6, strides=(2, 2), se_ratio=0.25, id_skip=True, fused_conv=False, conv_type='depthwise'), BlockConfig(input_filters=192, output_filters=320, kernel_size=3, num_repeat=1, expand_ratio=6, strides=(1, 1), se_ratio=0.25, id_skip=True, fused_conv=False, conv_type='depthwise')), stem_base_filters=32, top_base_filters=1280, activation='simple_swish', batch_norm='default', bn_momentum=0.99, bn_epsilon=0.001, weight_decay=5e-06, drop_connect_rate=0.2, depth_divisor=8, min_depth=None, use_se=True, input_channels=3, num_classes=1000, model_name='efficientnet', rescale_input=False, data_format='channels_last', dtype='float32')\n",
      "INFO:tensorflow:time(__main__.ModelBuilderTF2Test.test_create_ssd_models_from_config): 15.03s\n",
      "I0527 14:15:11.091403 140107205215296 test_util.py:2458] time(__main__.ModelBuilderTF2Test.test_create_ssd_models_from_config): 15.03s\n",
      "[       OK ] ModelBuilderTF2Test.test_create_ssd_models_from_config\n",
      "[ RUN      ] ModelBuilderTF2Test.test_invalid_faster_rcnn_batchnorm_update\n",
      "INFO:tensorflow:time(__main__.ModelBuilderTF2Test.test_invalid_faster_rcnn_batchnorm_update): 0.0s\n",
      "I0527 14:15:11.097356 140107205215296 test_util.py:2458] time(__main__.ModelBuilderTF2Test.test_invalid_faster_rcnn_batchnorm_update): 0.0s\n",
      "[       OK ] ModelBuilderTF2Test.test_invalid_faster_rcnn_batchnorm_update\n",
      "[ RUN      ] ModelBuilderTF2Test.test_invalid_first_stage_nms_iou_threshold\n",
      "INFO:tensorflow:time(__main__.ModelBuilderTF2Test.test_invalid_first_stage_nms_iou_threshold): 0.0s\n",
      "I0527 14:15:11.098498 140107205215296 test_util.py:2458] time(__main__.ModelBuilderTF2Test.test_invalid_first_stage_nms_iou_threshold): 0.0s\n",
      "[       OK ] ModelBuilderTF2Test.test_invalid_first_stage_nms_iou_threshold\n",
      "[ RUN      ] ModelBuilderTF2Test.test_invalid_model_config_proto\n",
      "INFO:tensorflow:time(__main__.ModelBuilderTF2Test.test_invalid_model_config_proto): 0.0s\n",
      "I0527 14:15:11.098766 140107205215296 test_util.py:2458] time(__main__.ModelBuilderTF2Test.test_invalid_model_config_proto): 0.0s\n",
      "[       OK ] ModelBuilderTF2Test.test_invalid_model_config_proto\n",
      "[ RUN      ] ModelBuilderTF2Test.test_invalid_second_stage_batch_size\n",
      "INFO:tensorflow:time(__main__.ModelBuilderTF2Test.test_invalid_second_stage_batch_size): 0.0s\n",
      "I0527 14:15:11.099730 140107205215296 test_util.py:2458] time(__main__.ModelBuilderTF2Test.test_invalid_second_stage_batch_size): 0.0s\n",
      "[       OK ] ModelBuilderTF2Test.test_invalid_second_stage_batch_size\n",
      "[ RUN      ] ModelBuilderTF2Test.test_session\n",
      "[  SKIPPED ] ModelBuilderTF2Test.test_session\n",
      "[ RUN      ] ModelBuilderTF2Test.test_unknown_faster_rcnn_feature_extractor\n",
      "INFO:tensorflow:time(__main__.ModelBuilderTF2Test.test_unknown_faster_rcnn_feature_extractor): 0.0s\n",
      "I0527 14:15:11.100615 140107205215296 test_util.py:2458] time(__main__.ModelBuilderTF2Test.test_unknown_faster_rcnn_feature_extractor): 0.0s\n",
      "[       OK ] ModelBuilderTF2Test.test_unknown_faster_rcnn_feature_extractor\n",
      "[ RUN      ] ModelBuilderTF2Test.test_unknown_meta_architecture\n",
      "INFO:tensorflow:time(__main__.ModelBuilderTF2Test.test_unknown_meta_architecture): 0.0s\n",
      "I0527 14:15:11.100849 140107205215296 test_util.py:2458] time(__main__.ModelBuilderTF2Test.test_unknown_meta_architecture): 0.0s\n",
      "[       OK ] ModelBuilderTF2Test.test_unknown_meta_architecture\n",
      "[ RUN      ] ModelBuilderTF2Test.test_unknown_ssd_feature_extractor\n",
      "INFO:tensorflow:time(__main__.ModelBuilderTF2Test.test_unknown_ssd_feature_extractor): 0.0s\n",
      "I0527 14:15:11.101485 140107205215296 test_util.py:2458] time(__main__.ModelBuilderTF2Test.test_unknown_ssd_feature_extractor): 0.0s\n",
      "[       OK ] ModelBuilderTF2Test.test_unknown_ssd_feature_extractor\n",
      "----------------------------------------------------------------------\n",
      "Ran 24 tests in 18.327s\n",
      "\n",
      "OK (skipped=1)\n"
     ]
    }
   ],
   "source": [
    "VERIFICATION_SCRIPT = os.path.join(paths['APIMODEL_PATH'], 'research', 'object_detection', 'builders', 'model_builder_tf2_test.py')\n",
    "# Verify Installation\n",
    "!python {VERIFICATION_SCRIPT}"
   ]
  },
  {
   "cell_type": "code",
   "execution_count": 35,
   "id": "587294c9",
   "metadata": {
    "executionInfo": {
     "elapsed": 11,
     "status": "ok",
     "timestamp": 1653474645166,
     "user": {
      "displayName": "Breno Alencar",
      "userId": "04592311811102011355"
     },
     "user_tz": 180
    },
    "id": "587294c9"
   },
   "outputs": [],
   "source": [
    "import object_detection"
   ]
  },
  {
   "cell_type": "markdown",
   "id": "25ea0249",
   "metadata": {
    "id": "25ea0249"
   },
   "source": [
    "# 3. Downloading Tensorflow Model Zoo"
   ]
  },
  {
   "attachments": {},
   "cell_type": "markdown",
   "id": "2c8c25e0",
   "metadata": {},
   "source": [
    "![pretrained_model.png](src/pretrained_model.png)"
   ]
  },
  {
   "cell_type": "code",
   "execution_count": 36,
   "id": "744f7466",
   "metadata": {
    "colab": {
     "base_uri": "https://localhost:8080/"
    },
    "executionInfo": {
     "elapsed": 973,
     "status": "ok",
     "timestamp": 1653474646130,
     "user": {
      "displayName": "Breno Alencar",
      "userId": "04592311811102011355"
     },
     "user_tz": 180
    },
    "id": "744f7466",
    "outputId": "f0f6c03b-e169-4656-f756-49f7e36b58fd"
   },
   "outputs": [
    {
     "name": "stdout",
     "output_type": "stream",
     "text": [
      "--2022-05-27 14:15:11--  http://download.tensorflow.org/models/object_detection/tf2/20200711/ssd_mobilenet_v2_fpnlite_320x320_coco17_tpu-8.tar.gz\n",
      "Resolving download.tensorflow.org (download.tensorflow.org)... 2800:3f0:4004:80f::2010, 142.250.218.144\n",
      "Connecting to download.tensorflow.org (download.tensorflow.org)|2800:3f0:4004:80f::2010|:80... connected.\n",
      "HTTP request sent, awaiting response... 200 OK\n",
      "Length: 20515344 (20M) [application/x-tar]\n",
      "Saving to: ‘ssd_mobilenet_v2_fpnlite_320x320_coco17_tpu-8.tar.gz’\n",
      "\n",
      "ssd_mobilenet_v2_fp 100%[===================>]  19,56M  6,93MB/s    in 2,8s    \n",
      "\n",
      "2022-05-27 14:15:20 (6,93 MB/s) - ‘ssd_mobilenet_v2_fpnlite_320x320_coco17_tpu-8.tar.gz’ saved [20515344/20515344]\n",
      "\n",
      "ssd_mobilenet_v2_fpnlite_320x320_coco17_tpu-8/\n",
      "ssd_mobilenet_v2_fpnlite_320x320_coco17_tpu-8/checkpoint/\n",
      "ssd_mobilenet_v2_fpnlite_320x320_coco17_tpu-8/checkpoint/ckpt-0.data-00000-of-00001\n",
      "ssd_mobilenet_v2_fpnlite_320x320_coco17_tpu-8/checkpoint/checkpoint\n",
      "ssd_mobilenet_v2_fpnlite_320x320_coco17_tpu-8/checkpoint/ckpt-0.index\n",
      "ssd_mobilenet_v2_fpnlite_320x320_coco17_tpu-8/pipeline.config\n",
      "ssd_mobilenet_v2_fpnlite_320x320_coco17_tpu-8/saved_model/\n",
      "ssd_mobilenet_v2_fpnlite_320x320_coco17_tpu-8/saved_model/saved_model.pb\n",
      "ssd_mobilenet_v2_fpnlite_320x320_coco17_tpu-8/saved_model/variables/\n",
      "ssd_mobilenet_v2_fpnlite_320x320_coco17_tpu-8/saved_model/variables/variables.data-00000-of-00001\n",
      "ssd_mobilenet_v2_fpnlite_320x320_coco17_tpu-8/saved_model/variables/variables.index\n"
     ]
    }
   ],
   "source": [
    "!wget {PRETRAINED_MODEL_URL}\n",
    "!mv {PRETRAINED_MODEL_NAME+'.tar.gz'} {paths['PRETRAINED_MODEL_PATH']}\n",
    "!cd {paths['PRETRAINED_MODEL_PATH']} && tar -zxvf {PRETRAINED_MODEL_NAME+'.tar.gz'}"
   ]
  },
  {
   "cell_type": "markdown",
   "id": "0afc7e8b",
   "metadata": {
    "id": "0afc7e8b"
   },
   "source": [
    "# 4. Creating Label Map"
   ]
  },
  {
   "cell_type": "markdown",
   "id": "64b0f985",
   "metadata": {},
   "source": [
    "![Example Dataset](dataset/train/img07.png)"
   ]
  },
  {
   "cell_type": "code",
   "execution_count": 37,
   "id": "6f8f3fdb",
   "metadata": {
    "executionInfo": {
     "elapsed": 14,
     "status": "ok",
     "timestamp": 1653474646132,
     "user": {
      "displayName": "Breno Alencar",
      "userId": "04592311811102011355"
     },
     "user_tz": 180
    },
    "id": "6f8f3fdb"
   },
   "outputs": [],
   "source": [
    "labels = [{'name':'hole', 'id':1}]\n",
    "          \n",
    "with open(files['LABELMAP'], 'w') as f:\n",
    "    for label in labels:\n",
    "        f.write('item { \\n')\n",
    "        f.write('\\tname:\\'{}\\'\\n'.format(label['name']))\n",
    "        f.write('\\tid:{}\\n'.format(label['id']))\n",
    "        f.write('}\\n')          "
   ]
  },
  {
   "cell_type": "markdown",
   "id": "b627717d",
   "metadata": {
    "id": "b627717d"
   },
   "source": [
    "# 5. Creating TF records"
   ]
  },
  {
   "cell_type": "code",
   "execution_count": 6,
   "id": "eded8f74",
   "metadata": {
    "executionInfo": {
     "elapsed": 13,
     "status": "ok",
     "timestamp": 1653474646133,
     "user": {
      "displayName": "Breno Alencar",
      "userId": "04592311811102011355"
     },
     "user_tz": 180
    },
    "id": "eded8f74"
   },
   "outputs": [],
   "source": [
    "if not os.path.exists(files['TF_RECORD_SCRIPT']):\n",
    "    shutil.copy('generate_tfrecord.py', paths['SCRIPTS_PATH'])"
   ]
  },
  {
   "cell_type": "code",
   "execution_count": 7,
   "id": "daa4c607",
   "metadata": {
    "colab": {
     "base_uri": "https://localhost:8080/"
    },
    "executionInfo": {
     "elapsed": 11284,
     "status": "ok",
     "timestamp": 1653474657406,
     "user": {
      "displayName": "Breno Alencar",
      "userId": "04592311811102011355"
     },
     "user_tz": 180
    },
    "id": "daa4c607",
    "outputId": "3b11e5d6-9a3e-48fc-85f6-7a65d3e9a374"
   },
   "outputs": [
    {
     "name": "stdout",
     "output_type": "stream",
     "text": [
      "Successfully created the TFRecord file: Tensorflow/workspace/annotations/train.record\n",
      "Successfully created the TFRecord file: Tensorflow/workspace/annotations/test.record\n"
     ]
    }
   ],
   "source": [
    "!python {files['TF_RECORD_SCRIPT']} -x {os.path.join(paths['IMAGE_PATH'], 'train')} -l {files['LABELMAP']} -o {os.path.join(paths['ANNOTATION_PATH'], 'train.record')} \n",
    "!python {files['TF_RECORD_SCRIPT']} -x {os.path.join(paths['IMAGE_PATH'], 'test')} -l {files['LABELMAP']} -o {os.path.join(paths['ANNOTATION_PATH'], 'test.record')} "
   ]
  },
  {
   "cell_type": "markdown",
   "id": "b1c96a99",
   "metadata": {
    "id": "b1c96a99"
   },
   "source": [
    "# 6. Copying Model Config to Training Folder"
   ]
  },
  {
   "cell_type": "code",
   "execution_count": 40,
   "id": "bcd8c4cd",
   "metadata": {
    "executionInfo": {
     "elapsed": 7,
     "status": "ok",
     "timestamp": 1653474657406,
     "user": {
      "displayName": "Breno Alencar",
      "userId": "04592311811102011355"
     },
     "user_tz": 180
    },
    "id": "bcd8c4cd"
   },
   "outputs": [],
   "source": [
    "!cp {os.path.join(paths['PRETRAINED_MODEL_PATH'], PRETRAINED_MODEL_NAME, 'pipeline.config')} {os.path.join(paths['CHECKPOINT_PATH'])}"
   ]
  },
  {
   "cell_type": "markdown",
   "id": "c41cb1aa",
   "metadata": {
    "id": "c41cb1aa"
   },
   "source": [
    "# 7. Updating Config For Transfer Learning"
   ]
  },
  {
   "cell_type": "code",
   "execution_count": 41,
   "id": "fdcc56d5",
   "metadata": {
    "executionInfo": {
     "elapsed": 5,
     "status": "ok",
     "timestamp": 1653474657407,
     "user": {
      "displayName": "Breno Alencar",
      "userId": "04592311811102011355"
     },
     "user_tz": 180
    },
    "id": "fdcc56d5"
   },
   "outputs": [],
   "source": [
    "import tensorflow as tf\n",
    "from object_detection.utils import config_util\n",
    "from object_detection.protos import pipeline_pb2\n",
    "from google.protobuf import text_format"
   ]
  },
  {
   "cell_type": "code",
   "execution_count": 42,
   "id": "cf19c600",
   "metadata": {
    "executionInfo": {
     "elapsed": 4,
     "status": "ok",
     "timestamp": 1653474657407,
     "user": {
      "displayName": "Breno Alencar",
      "userId": "04592311811102011355"
     },
     "user_tz": 180
    },
    "id": "cf19c600"
   },
   "outputs": [],
   "source": [
    "config = config_util.get_configs_from_pipeline_file(files['PIPELINE_CONFIG'])"
   ]
  },
  {
   "cell_type": "code",
   "execution_count": 43,
   "id": "4c2abc92",
   "metadata": {
    "executionInfo": {
     "elapsed": 4,
     "status": "ok",
     "timestamp": 1653474657407,
     "user": {
      "displayName": "Breno Alencar",
      "userId": "04592311811102011355"
     },
     "user_tz": 180
    },
    "id": "4c2abc92"
   },
   "outputs": [],
   "source": [
    "pipeline_config = pipeline_pb2.TrainEvalPipelineConfig()\n",
    "with tf.io.gfile.GFile(files['PIPELINE_CONFIG'], \"r\") as f:                                                                                                                                                                                                                     \n",
    "    proto_str = f.read()                                                                                                                                                                                                                                          \n",
    "    text_format.Merge(proto_str, pipeline_config)"
   ]
  },
  {
   "cell_type": "code",
   "execution_count": 44,
   "id": "d4da5985",
   "metadata": {
    "colab": {
     "base_uri": "https://localhost:8080/"
    },
    "executionInfo": {
     "elapsed": 586,
     "status": "ok",
     "timestamp": 1653474657990,
     "user": {
      "displayName": "Breno Alencar",
      "userId": "04592311811102011355"
     },
     "user_tz": 180
    },
    "id": "d4da5985",
    "outputId": "4f12e822-7303-43ea-d1e8-0f36a5a83d02"
   },
   "outputs": [
    {
     "data": {
      "text/plain": [
       "{'model': ssd {\n",
       "   num_classes: 90\n",
       "   image_resizer {\n",
       "     fixed_shape_resizer {\n",
       "       height: 320\n",
       "       width: 320\n",
       "     }\n",
       "   }\n",
       "   feature_extractor {\n",
       "     type: \"ssd_mobilenet_v2_fpn_keras\"\n",
       "     depth_multiplier: 1.0\n",
       "     min_depth: 16\n",
       "     conv_hyperparams {\n",
       "       regularizer {\n",
       "         l2_regularizer {\n",
       "           weight: 3.9999998989515007e-05\n",
       "         }\n",
       "       }\n",
       "       initializer {\n",
       "         random_normal_initializer {\n",
       "           mean: 0.0\n",
       "           stddev: 0.009999999776482582\n",
       "         }\n",
       "       }\n",
       "       activation: RELU_6\n",
       "       batch_norm {\n",
       "         decay: 0.996999979019165\n",
       "         scale: true\n",
       "         epsilon: 0.0010000000474974513\n",
       "       }\n",
       "     }\n",
       "     use_depthwise: true\n",
       "     override_base_feature_extractor_hyperparams: true\n",
       "     fpn {\n",
       "       min_level: 3\n",
       "       max_level: 7\n",
       "       additional_layer_depth: 128\n",
       "     }\n",
       "   }\n",
       "   box_coder {\n",
       "     faster_rcnn_box_coder {\n",
       "       y_scale: 10.0\n",
       "       x_scale: 10.0\n",
       "       height_scale: 5.0\n",
       "       width_scale: 5.0\n",
       "     }\n",
       "   }\n",
       "   matcher {\n",
       "     argmax_matcher {\n",
       "       matched_threshold: 0.5\n",
       "       unmatched_threshold: 0.5\n",
       "       ignore_thresholds: false\n",
       "       negatives_lower_than_unmatched: true\n",
       "       force_match_for_each_row: true\n",
       "       use_matmul_gather: true\n",
       "     }\n",
       "   }\n",
       "   similarity_calculator {\n",
       "     iou_similarity {\n",
       "     }\n",
       "   }\n",
       "   box_predictor {\n",
       "     weight_shared_convolutional_box_predictor {\n",
       "       conv_hyperparams {\n",
       "         regularizer {\n",
       "           l2_regularizer {\n",
       "             weight: 3.9999998989515007e-05\n",
       "           }\n",
       "         }\n",
       "         initializer {\n",
       "           random_normal_initializer {\n",
       "             mean: 0.0\n",
       "             stddev: 0.009999999776482582\n",
       "           }\n",
       "         }\n",
       "         activation: RELU_6\n",
       "         batch_norm {\n",
       "           decay: 0.996999979019165\n",
       "           scale: true\n",
       "           epsilon: 0.0010000000474974513\n",
       "         }\n",
       "       }\n",
       "       depth: 128\n",
       "       num_layers_before_predictor: 4\n",
       "       kernel_size: 3\n",
       "       class_prediction_bias_init: -4.599999904632568\n",
       "       share_prediction_tower: true\n",
       "       use_depthwise: true\n",
       "     }\n",
       "   }\n",
       "   anchor_generator {\n",
       "     multiscale_anchor_generator {\n",
       "       min_level: 3\n",
       "       max_level: 7\n",
       "       anchor_scale: 4.0\n",
       "       aspect_ratios: 1.0\n",
       "       aspect_ratios: 2.0\n",
       "       aspect_ratios: 0.5\n",
       "       scales_per_octave: 2\n",
       "     }\n",
       "   }\n",
       "   post_processing {\n",
       "     batch_non_max_suppression {\n",
       "       score_threshold: 9.99999993922529e-09\n",
       "       iou_threshold: 0.6000000238418579\n",
       "       max_detections_per_class: 100\n",
       "       max_total_detections: 100\n",
       "       use_static_shapes: false\n",
       "     }\n",
       "     score_converter: SIGMOID\n",
       "   }\n",
       "   normalize_loss_by_num_matches: true\n",
       "   loss {\n",
       "     localization_loss {\n",
       "       weighted_smooth_l1 {\n",
       "       }\n",
       "     }\n",
       "     classification_loss {\n",
       "       weighted_sigmoid_focal {\n",
       "         gamma: 2.0\n",
       "         alpha: 0.25\n",
       "       }\n",
       "     }\n",
       "     classification_weight: 1.0\n",
       "     localization_weight: 1.0\n",
       "   }\n",
       "   encode_background_as_zeros: true\n",
       "   normalize_loc_loss_by_codesize: true\n",
       "   inplace_batchnorm_update: true\n",
       "   freeze_batchnorm: false\n",
       " },\n",
       " 'train_config': batch_size: 128\n",
       " data_augmentation_options {\n",
       "   random_horizontal_flip {\n",
       "   }\n",
       " }\n",
       " data_augmentation_options {\n",
       "   random_crop_image {\n",
       "     min_object_covered: 0.0\n",
       "     min_aspect_ratio: 0.75\n",
       "     max_aspect_ratio: 3.0\n",
       "     min_area: 0.75\n",
       "     max_area: 1.0\n",
       "     overlap_thresh: 0.0\n",
       "   }\n",
       " }\n",
       " sync_replicas: true\n",
       " optimizer {\n",
       "   momentum_optimizer {\n",
       "     learning_rate {\n",
       "       cosine_decay_learning_rate {\n",
       "         learning_rate_base: 0.07999999821186066\n",
       "         total_steps: 50000\n",
       "         warmup_learning_rate: 0.026666000485420227\n",
       "         warmup_steps: 1000\n",
       "       }\n",
       "     }\n",
       "     momentum_optimizer_value: 0.8999999761581421\n",
       "   }\n",
       "   use_moving_average: false\n",
       " }\n",
       " fine_tune_checkpoint: \"PATH_TO_BE_CONFIGURED\"\n",
       " num_steps: 50000\n",
       " startup_delay_steps: 0.0\n",
       " replicas_to_aggregate: 8\n",
       " max_number_of_boxes: 100\n",
       " unpad_groundtruth_tensors: false\n",
       " fine_tune_checkpoint_type: \"classification\"\n",
       " fine_tune_checkpoint_version: V2,\n",
       " 'train_input_config': label_map_path: \"PATH_TO_BE_CONFIGURED\"\n",
       " tf_record_input_reader {\n",
       "   input_path: \"PATH_TO_BE_CONFIGURED\"\n",
       " },\n",
       " 'eval_config': metrics_set: \"coco_detection_metrics\"\n",
       " use_moving_averages: false,\n",
       " 'eval_input_configs': [label_map_path: \"PATH_TO_BE_CONFIGURED\"\n",
       " shuffle: false\n",
       " num_epochs: 1\n",
       " tf_record_input_reader {\n",
       "   input_path: \"PATH_TO_BE_CONFIGURED\"\n",
       " }\n",
       " ],\n",
       " 'eval_input_config': label_map_path: \"PATH_TO_BE_CONFIGURED\"\n",
       " shuffle: false\n",
       " num_epochs: 1\n",
       " tf_record_input_reader {\n",
       "   input_path: \"PATH_TO_BE_CONFIGURED\"\n",
       " }}"
      ]
     },
     "execution_count": 44,
     "metadata": {},
     "output_type": "execute_result"
    }
   ],
   "source": [
    "config"
   ]
  },
  {
   "cell_type": "code",
   "execution_count": 45,
   "id": "45bed667",
   "metadata": {
    "executionInfo": {
     "elapsed": 4,
     "status": "ok",
     "timestamp": 1653474657407,
     "user": {
      "displayName": "Breno Alencar",
      "userId": "04592311811102011355"
     },
     "user_tz": 180
    },
    "id": "45bed667"
   },
   "outputs": [],
   "source": [
    "pipeline_config.model.ssd.num_classes = len(labels)\n",
    "pipeline_config.train_config.batch_size = 4\n",
    "pipeline_config.train_config.fine_tune_checkpoint = os.path.join(paths['PRETRAINED_MODEL_PATH'], PRETRAINED_MODEL_NAME, 'checkpoint', 'ckpt-0')\n",
    "pipeline_config.train_config.fine_tune_checkpoint_type = \"detection\"\n",
    "pipeline_config.train_input_reader.label_map_path= files['LABELMAP']\n",
    "pipeline_config.train_input_reader.tf_record_input_reader.input_path[:] = [os.path.join(paths['ANNOTATION_PATH'], 'train.record')]\n",
    "pipeline_config.eval_input_reader[0].label_map_path = files['LABELMAP']\n",
    "pipeline_config.eval_input_reader[0].tf_record_input_reader.input_path[:] = [os.path.join(paths['ANNOTATION_PATH'], 'test.record')]"
   ]
  },
  {
   "cell_type": "code",
   "execution_count": 46,
   "id": "3e9324d0",
   "metadata": {
    "executionInfo": {
     "elapsed": 5,
     "status": "ok",
     "timestamp": 1653474657408,
     "user": {
      "displayName": "Breno Alencar",
      "userId": "04592311811102011355"
     },
     "user_tz": 180
    },
    "id": "3e9324d0"
   },
   "outputs": [],
   "source": [
    "config_text = text_format.MessageToString(pipeline_config)                                                                                                                                                                                                        \n",
    "with tf.io.gfile.GFile(files['PIPELINE_CONFIG'], \"wb\") as f:                                                                                                                                                                                                                     \n",
    "    f.write(config_text)"
   ]
  },
  {
   "cell_type": "markdown",
   "id": "7918de3b",
   "metadata": {
    "id": "7918de3b"
   },
   "source": [
    "# 8. Training model"
   ]
  },
  {
   "cell_type": "code",
   "execution_count": 47,
   "id": "dba140b4",
   "metadata": {
    "executionInfo": {
     "elapsed": 24,
     "status": "ok",
     "timestamp": 1653474657991,
     "user": {
      "displayName": "Breno Alencar",
      "userId": "04592311811102011355"
     },
     "user_tz": 180
    },
    "id": "dba140b4"
   },
   "outputs": [],
   "source": [
    "TRAINING_SCRIPT = os.path.join(paths['APIMODEL_PATH'], 'research', 'object_detection', 'model_main_tf2.py')"
   ]
  },
  {
   "cell_type": "code",
   "execution_count": 48,
   "id": "378eb427",
   "metadata": {
    "executionInfo": {
     "elapsed": 25,
     "status": "ok",
     "timestamp": 1653474657993,
     "user": {
      "displayName": "Breno Alencar",
      "userId": "04592311811102011355"
     },
     "user_tz": 180
    },
    "id": "378eb427"
   },
   "outputs": [],
   "source": [
    "command = \"python {} --model_dir={} --pipeline_config_path={} --num_train_steps=2000\".format(TRAINING_SCRIPT, paths['CHECKPOINT_PATH'],files['PIPELINE_CONFIG'])"
   ]
  },
  {
   "cell_type": "code",
   "execution_count": 49,
   "id": "5bea48cf",
   "metadata": {
    "colab": {
     "base_uri": "https://localhost:8080/"
    },
    "executionInfo": {
     "elapsed": 21,
     "status": "ok",
     "timestamp": 1653474657994,
     "user": {
      "displayName": "Breno Alencar",
      "userId": "04592311811102011355"
     },
     "user_tz": 180
    },
    "id": "5bea48cf",
    "outputId": "120318c7-8d52-431e-8c80-a2fc02d03a74",
    "scrolled": true
   },
   "outputs": [
    {
     "name": "stdout",
     "output_type": "stream",
     "text": [
      "python Tensorflow/models/research/object_detection/model_main_tf2.py --model_dir=Tensorflow/workspace/models/my_ssd_mobnet --pipeline_config_path=Tensorflow/workspace/models/my_ssd_mobnet/pipeline.config --num_train_steps=2000\n"
     ]
    }
   ],
   "source": [
    "print(command)"
   ]
  },
  {
   "cell_type": "markdown",
   "id": "8fb44602",
   "metadata": {
    "id": "_gvCLUeGu8A7"
   },
   "source": [
    "# 9. Evaluating the Model"
   ]
  },
  {
   "cell_type": "code",
   "execution_count": 50,
   "id": "c33380ff",
   "metadata": {},
   "outputs": [],
   "source": [
    "command = \"python {} --model_dir={} --pipeline_config_path={} --checkpoint_dir={}\".format(TRAINING_SCRIPT, paths['CHECKPOINT_PATH'],files['PIPELINE_CONFIG'], paths['CHECKPOINT_PATH'])"
   ]
  },
  {
   "cell_type": "code",
   "execution_count": 51,
   "id": "ad7cd2e7",
   "metadata": {
    "scrolled": true
   },
   "outputs": [
    {
     "name": "stdout",
     "output_type": "stream",
     "text": [
      "python Tensorflow/models/research/object_detection/model_main_tf2.py --model_dir=Tensorflow/workspace/models/my_ssd_mobnet --pipeline_config_path=Tensorflow/workspace/models/my_ssd_mobnet/pipeline.config --checkpoint_dir=Tensorflow/workspace/models/my_ssd_mobnet\n"
     ]
    }
   ],
   "source": [
    "print(command)"
   ]
  },
  {
   "cell_type": "code",
   "execution_count": null,
   "id": "881f5a2e",
   "metadata": {},
   "outputs": [],
   "source": []
  }
 ],
 "metadata": {
  "colab": {
   "collapsed_sections": [],
   "name": "Training.ipynb",
   "provenance": []
  },
  "kernelspec": {
   "display_name": "Python 3 (ipykernel)",
   "language": "python",
   "name": "python3"
  },
  "language_info": {
   "codemirror_mode": {
    "name": "ipython",
    "version": 3
   },
   "file_extension": ".py",
   "mimetype": "text/x-python",
   "name": "python",
   "nbconvert_exporter": "python",
   "pygments_lexer": "ipython3",
   "version": "3.8.13"
  }
 },
 "nbformat": 4,
 "nbformat_minor": 5
}
